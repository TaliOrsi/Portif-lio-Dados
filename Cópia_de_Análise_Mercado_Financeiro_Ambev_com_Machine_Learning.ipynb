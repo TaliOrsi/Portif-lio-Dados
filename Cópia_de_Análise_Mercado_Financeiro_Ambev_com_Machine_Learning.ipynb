{
  "nbformat": 4,
  "nbformat_minor": 0,
  "metadata": {
    "colab": {
      "name": "Cópia de Análise Mercado Financeiro: Ambev com Machine Learning",
      "provenance": [],
      "authorship_tag": "ABX9TyPTMH8UHvSNHfIh5uZBwzsc",
      "include_colab_link": true
    },
    "kernelspec": {
      "name": "python3",
      "display_name": "Python 3"
    },
    "language_info": {
      "name": "python"
    }
  },
  "cells": [
    {
      "cell_type": "markdown",
      "metadata": {
        "id": "view-in-github",
        "colab_type": "text"
      },
      "source": [
        "<a href=\"https://colab.research.google.com/github/TaliOrsi/Portif-lio-Dados/blob/main/C%C3%B3pia_de_An%C3%A1lise_Mercado_Financeiro_Ambev_com_Machine_Learning.ipynb\" target=\"_parent\"><img src=\"https://colab.research.google.com/assets/colab-badge.svg\" alt=\"Open In Colab\"/></a>"
      ]
    },
    {
      "cell_type": "code",
      "metadata": {
        "id": "_xvWR4eHOAYB"
      },
      "source": [
        "import pandas as pd \n",
        "import pandas_datareader as wb\n",
        "import missingno\n",
        "import matplotlib.pyplot as plt\n",
        "import seaborn as sns\n",
        "import time, datetime, random\n",
        "from sklearn.linear_model import LogisticRegression\n",
        "from sklearn import model_selection,metrics, linear_model\n",
        "from sklearn.svm import LinearSVC\n"
      ],
      "execution_count": null,
      "outputs": []
    },
    {
      "cell_type": "code",
      "metadata": {
        "id": "FaB3TWI0R_oU"
      },
      "source": [
        "data = pd.read_csv(\"/content/ABEVfinanças.csv\")"
      ],
      "execution_count": null,
      "outputs": []
    },
    {
      "cell_type": "code",
      "metadata": {
        "colab": {
          "base_uri": "https://localhost:8080/",
          "height": 204
        },
        "id": "ppOqVNw5PAe-",
        "outputId": "178ae98b-6da1-484a-9a0a-34b82077342b"
      },
      "source": [
        "data.head()"
      ],
      "execution_count": null,
      "outputs": [
        {
          "output_type": "execute_result",
          "data": {
            "text/html": [
              "<div>\n",
              "<style scoped>\n",
              "    .dataframe tbody tr th:only-of-type {\n",
              "        vertical-align: middle;\n",
              "    }\n",
              "\n",
              "    .dataframe tbody tr th {\n",
              "        vertical-align: top;\n",
              "    }\n",
              "\n",
              "    .dataframe thead th {\n",
              "        text-align: right;\n",
              "    }\n",
              "</style>\n",
              "<table border=\"1\" class=\"dataframe\">\n",
              "  <thead>\n",
              "    <tr style=\"text-align: right;\">\n",
              "      <th></th>\n",
              "      <th>Date</th>\n",
              "      <th>Open</th>\n",
              "      <th>High</th>\n",
              "      <th>Low</th>\n",
              "      <th>Close</th>\n",
              "      <th>Adj Close</th>\n",
              "      <th>Volume</th>\n",
              "    </tr>\n",
              "  </thead>\n",
              "  <tbody>\n",
              "    <tr>\n",
              "      <th>0</th>\n",
              "      <td>2020-07-22</td>\n",
              "      <td>2.91</td>\n",
              "      <td>2.99</td>\n",
              "      <td>2.87</td>\n",
              "      <td>2.90</td>\n",
              "      <td>2.811694</td>\n",
              "      <td>52349400</td>\n",
              "    </tr>\n",
              "    <tr>\n",
              "      <th>1</th>\n",
              "      <td>2020-07-23</td>\n",
              "      <td>2.89</td>\n",
              "      <td>2.90</td>\n",
              "      <td>2.78</td>\n",
              "      <td>2.79</td>\n",
              "      <td>2.705044</td>\n",
              "      <td>21725400</td>\n",
              "    </tr>\n",
              "    <tr>\n",
              "      <th>2</th>\n",
              "      <td>2020-07-24</td>\n",
              "      <td>2.80</td>\n",
              "      <td>2.88</td>\n",
              "      <td>2.75</td>\n",
              "      <td>2.87</td>\n",
              "      <td>2.782608</td>\n",
              "      <td>31077900</td>\n",
              "    </tr>\n",
              "    <tr>\n",
              "      <th>3</th>\n",
              "      <td>2020-07-27</td>\n",
              "      <td>2.89</td>\n",
              "      <td>3.00</td>\n",
              "      <td>2.87</td>\n",
              "      <td>2.99</td>\n",
              "      <td>2.898954</td>\n",
              "      <td>48253500</td>\n",
              "    </tr>\n",
              "    <tr>\n",
              "      <th>4</th>\n",
              "      <td>2020-07-28</td>\n",
              "      <td>2.94</td>\n",
              "      <td>2.99</td>\n",
              "      <td>2.92</td>\n",
              "      <td>2.93</td>\n",
              "      <td>2.840781</td>\n",
              "      <td>35456300</td>\n",
              "    </tr>\n",
              "  </tbody>\n",
              "</table>\n",
              "</div>"
            ],
            "text/plain": [
              "         Date  Open  High   Low  Close  Adj Close    Volume\n",
              "0  2020-07-22  2.91  2.99  2.87   2.90   2.811694  52349400\n",
              "1  2020-07-23  2.89  2.90  2.78   2.79   2.705044  21725400\n",
              "2  2020-07-24  2.80  2.88  2.75   2.87   2.782608  31077900\n",
              "3  2020-07-27  2.89  3.00  2.87   2.99   2.898954  48253500\n",
              "4  2020-07-28  2.94  2.99  2.92   2.93   2.840781  35456300"
            ]
          },
          "metadata": {
            "tags": []
          },
          "execution_count": 9
        }
      ]
    },
    {
      "cell_type": "code",
      "metadata": {
        "colab": {
          "base_uri": "https://localhost:8080/",
          "height": 204
        },
        "id": "3EMw0PxAPN81",
        "outputId": "3194f819-50e0-417f-ca18-ac0086c42fad"
      },
      "source": [
        "data.tail()"
      ],
      "execution_count": null,
      "outputs": [
        {
          "output_type": "execute_result",
          "data": {
            "text/html": [
              "<div>\n",
              "<style scoped>\n",
              "    .dataframe tbody tr th:only-of-type {\n",
              "        vertical-align: middle;\n",
              "    }\n",
              "\n",
              "    .dataframe tbody tr th {\n",
              "        vertical-align: top;\n",
              "    }\n",
              "\n",
              "    .dataframe thead th {\n",
              "        text-align: right;\n",
              "    }\n",
              "</style>\n",
              "<table border=\"1\" class=\"dataframe\">\n",
              "  <thead>\n",
              "    <tr style=\"text-align: right;\">\n",
              "      <th></th>\n",
              "      <th>Date</th>\n",
              "      <th>Open</th>\n",
              "      <th>High</th>\n",
              "      <th>Low</th>\n",
              "      <th>Close</th>\n",
              "      <th>Adj Close</th>\n",
              "      <th>Volume</th>\n",
              "    </tr>\n",
              "  </thead>\n",
              "  <tbody>\n",
              "    <tr>\n",
              "      <th>247</th>\n",
              "      <td>2021-07-15</td>\n",
              "      <td>3.48</td>\n",
              "      <td>3.49</td>\n",
              "      <td>3.37</td>\n",
              "      <td>3.40</td>\n",
              "      <td>3.40</td>\n",
              "      <td>19507300</td>\n",
              "    </tr>\n",
              "    <tr>\n",
              "      <th>248</th>\n",
              "      <td>2021-07-16</td>\n",
              "      <td>3.44</td>\n",
              "      <td>3.45</td>\n",
              "      <td>3.37</td>\n",
              "      <td>3.39</td>\n",
              "      <td>3.39</td>\n",
              "      <td>37988700</td>\n",
              "    </tr>\n",
              "    <tr>\n",
              "      <th>249</th>\n",
              "      <td>2021-07-19</td>\n",
              "      <td>3.28</td>\n",
              "      <td>3.31</td>\n",
              "      <td>3.17</td>\n",
              "      <td>3.21</td>\n",
              "      <td>3.21</td>\n",
              "      <td>35854300</td>\n",
              "    </tr>\n",
              "    <tr>\n",
              "      <th>250</th>\n",
              "      <td>2021-07-20</td>\n",
              "      <td>3.17</td>\n",
              "      <td>3.24</td>\n",
              "      <td>3.16</td>\n",
              "      <td>3.20</td>\n",
              "      <td>3.20</td>\n",
              "      <td>27402200</td>\n",
              "    </tr>\n",
              "    <tr>\n",
              "      <th>251</th>\n",
              "      <td>2021-07-21</td>\n",
              "      <td>3.23</td>\n",
              "      <td>3.28</td>\n",
              "      <td>3.19</td>\n",
              "      <td>3.26</td>\n",
              "      <td>3.26</td>\n",
              "      <td>25459600</td>\n",
              "    </tr>\n",
              "  </tbody>\n",
              "</table>\n",
              "</div>"
            ],
            "text/plain": [
              "           Date  Open  High   Low  Close  Adj Close    Volume\n",
              "247  2021-07-15  3.48  3.49  3.37   3.40       3.40  19507300\n",
              "248  2021-07-16  3.44  3.45  3.37   3.39       3.39  37988700\n",
              "249  2021-07-19  3.28  3.31  3.17   3.21       3.21  35854300\n",
              "250  2021-07-20  3.17  3.24  3.16   3.20       3.20  27402200\n",
              "251  2021-07-21  3.23  3.28  3.19   3.26       3.26  25459600"
            ]
          },
          "metadata": {
            "tags": []
          },
          "execution_count": 10
        }
      ]
    },
    {
      "cell_type": "code",
      "metadata": {
        "colab": {
          "base_uri": "https://localhost:8080/",
          "height": 297
        },
        "id": "ivy-OEOFYfBH",
        "outputId": "b1df484c-94dc-4724-8c6d-1176f4275848"
      },
      "source": [
        "data.describe()"
      ],
      "execution_count": null,
      "outputs": [
        {
          "output_type": "execute_result",
          "data": {
            "text/html": [
              "<div>\n",
              "<style scoped>\n",
              "    .dataframe tbody tr th:only-of-type {\n",
              "        vertical-align: middle;\n",
              "    }\n",
              "\n",
              "    .dataframe tbody tr th {\n",
              "        vertical-align: top;\n",
              "    }\n",
              "\n",
              "    .dataframe thead th {\n",
              "        text-align: right;\n",
              "    }\n",
              "</style>\n",
              "<table border=\"1\" class=\"dataframe\">\n",
              "  <thead>\n",
              "    <tr style=\"text-align: right;\">\n",
              "      <th></th>\n",
              "      <th>Open</th>\n",
              "      <th>High</th>\n",
              "      <th>Low</th>\n",
              "      <th>Close</th>\n",
              "      <th>Adj Close</th>\n",
              "      <th>Volume</th>\n",
              "    </tr>\n",
              "  </thead>\n",
              "  <tbody>\n",
              "    <tr>\n",
              "      <th>count</th>\n",
              "      <td>252.000000</td>\n",
              "      <td>252.000000</td>\n",
              "      <td>252.000000</td>\n",
              "      <td>252.000000</td>\n",
              "      <td>252.000000</td>\n",
              "      <td>2.520000e+02</td>\n",
              "    </tr>\n",
              "    <tr>\n",
              "      <th>mean</th>\n",
              "      <td>2.852778</td>\n",
              "      <td>2.901310</td>\n",
              "      <td>2.808849</td>\n",
              "      <td>2.855159</td>\n",
              "      <td>2.821805</td>\n",
              "      <td>2.429188e+07</td>\n",
              "    </tr>\n",
              "    <tr>\n",
              "      <th>std</th>\n",
              "      <td>0.412257</td>\n",
              "      <td>0.414271</td>\n",
              "      <td>0.407070</td>\n",
              "      <td>0.412604</td>\n",
              "      <td>0.435147</td>\n",
              "      <td>1.129334e+07</td>\n",
              "    </tr>\n",
              "    <tr>\n",
              "      <th>min</th>\n",
              "      <td>2.180000</td>\n",
              "      <td>2.210000</td>\n",
              "      <td>2.130000</td>\n",
              "      <td>2.140000</td>\n",
              "      <td>2.074836</td>\n",
              "      <td>3.904200e+06</td>\n",
              "    </tr>\n",
              "    <tr>\n",
              "      <th>25%</th>\n",
              "      <td>2.490000</td>\n",
              "      <td>2.540000</td>\n",
              "      <td>2.450000</td>\n",
              "      <td>2.507500</td>\n",
              "      <td>2.433570</td>\n",
              "      <td>1.700218e+07</td>\n",
              "    </tr>\n",
              "    <tr>\n",
              "      <th>50%</th>\n",
              "      <td>2.800000</td>\n",
              "      <td>2.865000</td>\n",
              "      <td>2.770000</td>\n",
              "      <td>2.810000</td>\n",
              "      <td>2.790000</td>\n",
              "      <td>2.169775e+07</td>\n",
              "    </tr>\n",
              "    <tr>\n",
              "      <th>75%</th>\n",
              "      <td>3.080000</td>\n",
              "      <td>3.120000</td>\n",
              "      <td>3.030000</td>\n",
              "      <td>3.072500</td>\n",
              "      <td>3.054324</td>\n",
              "      <td>2.908120e+07</td>\n",
              "    </tr>\n",
              "    <tr>\n",
              "      <th>max</th>\n",
              "      <td>3.910000</td>\n",
              "      <td>3.950000</td>\n",
              "      <td>3.870000</td>\n",
              "      <td>3.900000</td>\n",
              "      <td>3.900000</td>\n",
              "      <td>7.955070e+07</td>\n",
              "    </tr>\n",
              "  </tbody>\n",
              "</table>\n",
              "</div>"
            ],
            "text/plain": [
              "             Open        High         Low       Close   Adj Close        Volume\n",
              "count  252.000000  252.000000  252.000000  252.000000  252.000000  2.520000e+02\n",
              "mean     2.852778    2.901310    2.808849    2.855159    2.821805  2.429188e+07\n",
              "std      0.412257    0.414271    0.407070    0.412604    0.435147  1.129334e+07\n",
              "min      2.180000    2.210000    2.130000    2.140000    2.074836  3.904200e+06\n",
              "25%      2.490000    2.540000    2.450000    2.507500    2.433570  1.700218e+07\n",
              "50%      2.800000    2.865000    2.770000    2.810000    2.790000  2.169775e+07\n",
              "75%      3.080000    3.120000    3.030000    3.072500    3.054324  2.908120e+07\n",
              "max      3.910000    3.950000    3.870000    3.900000    3.900000  7.955070e+07"
            ]
          },
          "metadata": {
            "tags": []
          },
          "execution_count": 30
        }
      ]
    },
    {
      "cell_type": "code",
      "metadata": {
        "colab": {
          "base_uri": "https://localhost:8080/",
          "height": 282
        },
        "id": "VgJDws04ZZFN",
        "outputId": "faa01949-420f-4b93-b8f9-8f29ec046cfe"
      },
      "source": [
        "data['Adj Close'].plot.hist()"
      ],
      "execution_count": null,
      "outputs": [
        {
          "output_type": "execute_result",
          "data": {
            "text/plain": [
              "<matplotlib.axes._subplots.AxesSubplot at 0x7ff474da2cd0>"
            ]
          },
          "metadata": {
            "tags": []
          },
          "execution_count": 31
        },
        {
          "output_type": "display_data",
          "data": {
            "image/png": "[encoded data removed]",
            "text/plain": [
              "<Figure size 432x288 with 1 Axes>"
            ]
          },
          "metadata": {
            "tags": [],
            "needs_background": "light"
          }
        }
      ]
    },
    {
      "cell_type": "code",
      "metadata": {
        "colab": {
          "base_uri": "https://localhost:8080/"
        },
        "id": "8YWhvCXGZmBz",
        "outputId": "4dee6d4b-fd29-4f0d-89cb-5150ce0ce986"
      },
      "source": [
        "data.columns"
      ],
      "execution_count": null,
      "outputs": [
        {
          "output_type": "execute_result",
          "data": {
            "text/plain": [
              "Index(['Date', 'Open', 'High', 'Low', 'Close', 'Adj Close', 'Volume'], dtype='object')"
            ]
          },
          "metadata": {
            "tags": []
          },
          "execution_count": 33
        }
      ]
    },
    {
      "cell_type": "code",
      "metadata": {
        "colab": {
          "base_uri": "https://localhost:8080/"
        },
        "id": "A69EISSzZ9qK",
        "outputId": "d74eb92d-74b2-417a-e8c8-87683f84b426"
      },
      "source": [
        "data.index"
      ],
      "execution_count": null,
      "outputs": [
        {
          "output_type": "execute_result",
          "data": {
            "text/plain": [
              "RangeIndex(start=0, stop=252, step=1)"
            ]
          },
          "metadata": {
            "tags": []
          },
          "execution_count": 34
        }
      ]
    },
    {
      "cell_type": "code",
      "metadata": {
        "colab": {
          "base_uri": "https://localhost:8080/",
          "height": 379
        },
        "id": "7KaVkzgweoEK",
        "outputId": "586b511c-01a4-47aa-a1e1-2e7c5d04e6c3"
      },
      "source": [
        "missingno.matrix(data,figsize=(30,10))"
      ],
      "execution_count": null,
      "outputs": [
        {
          "output_type": "execute_result",
          "data": {
            "text/plain": [
              "<matplotlib.axes._subplots.AxesSubplot at 0x7ff4666f1e90>"
            ]
          },
          "metadata": {
            "tags": []
          },
          "execution_count": 36
        },
        {
          "output_type": "display_data",
          "data": {
            "image/png": "[encoded data removed]",
            "text/plain": [
              "<Figure size 2160x720 with 2 Axes>"
            ]
          },
          "metadata": {
            "tags": [],
            "needs_background": "light"
          }
        }
      ]
    },
    {
      "cell_type": "code",
      "metadata": {
        "colab": {
          "base_uri": "https://localhost:8080/"
        },
        "id": "wyi6bGtHh6wU",
        "outputId": "b5289561-fb9e-4789-8029-2286f21f26eb"
      },
      "source": [
        "data.isnull().sum()"
      ],
      "execution_count": null,
      "outputs": [
        {
          "output_type": "execute_result",
          "data": {
            "text/plain": [
              "Date         0\n",
              "Open         0\n",
              "High         0\n",
              "Low          0\n",
              "Close        0\n",
              "Adj Close    0\n",
              "Volume       0\n",
              "dtype: int64"
            ]
          },
          "metadata": {
            "tags": []
          },
          "execution_count": 37
        }
      ]
    },
    {
      "cell_type": "code",
      "metadata": {
        "colab": {
          "base_uri": "https://localhost:8080/"
        },
        "id": "H60e-UhciN3y",
        "outputId": "3587a245-8018-484e-b7bb-35d0f14ae719"
      },
      "source": [
        "data.info()"
      ],
      "execution_count": null,
      "outputs": [
        {
          "output_type": "stream",
          "text": [
            "<class 'pandas.core.frame.DataFrame'>\n",
            "RangeIndex: 252 entries, 0 to 251\n",
            "Data columns (total 7 columns):\n",
            " #   Column     Non-Null Count  Dtype  \n",
            "---  ------     --------------  -----  \n",
            " 0   Date       252 non-null    object \n",
            " 1   Open       252 non-null    float64\n",
            " 2   High       252 non-null    float64\n",
            " 3   Low        252 non-null    float64\n",
            " 4   Close      252 non-null    float64\n",
            " 5   Adj Close  252 non-null    float64\n",
            " 6   Volume     252 non-null    int64  \n",
            "dtypes: float64(5), int64(1), object(1)\n",
            "memory usage: 13.9+ KB\n"
          ],
          "name": "stdout"
        }
      ]
    },
    {
      "cell_type": "code",
      "metadata": {
        "colab": {
          "base_uri": "https://localhost:8080/"
        },
        "id": "xwo4LbLviUD3",
        "outputId": "161668b5-33a4-4515-ace6-77e8cc10e5e2"
      },
      "source": [
        "data['Adj Close'].value_counts()"
      ],
      "execution_count": null,
      "outputs": [
        {
          "output_type": "execute_result",
          "data": {
            "text/plain": [
              "2.259051    6\n",
              "2.414179    4\n",
              "2.900000    4\n",
              "2.346310    4\n",
              "2.760000    4\n",
              "           ..\n",
              "3.830000    1\n",
              "2.640000    1\n",
              "2.840781    1\n",
              "2.627480    1\n",
              "3.470000    1\n",
              "Name: Adj Close, Length: 150, dtype: int64"
            ]
          },
          "metadata": {
            "tags": []
          },
          "execution_count": 39
        }
      ]
    },
    {
      "cell_type": "code",
      "metadata": {
        "colab": {
          "base_uri": "https://localhost:8080/"
        },
        "id": "HKTmAdAaizjx",
        "outputId": "29bd6ff7-f7f5-4665-fb9f-a7599a787de0"
      },
      "source": [
        "data['Adj Close'].mean()"
      ],
      "execution_count": null,
      "outputs": [
        {
          "output_type": "execute_result",
          "data": {
            "text/plain": [
              "2.8218051388888896"
            ]
          },
          "metadata": {
            "tags": []
          },
          "execution_count": 40
        }
      ]
    },
    {
      "cell_type": "code",
      "metadata": {
        "colab": {
          "base_uri": "https://localhost:8080/",
          "height": 324
        },
        "id": "EwwxCThajDLH",
        "outputId": "addf3ebb-c536-4044-e029-c2caa19daaf0"
      },
      "source": [
        "data['Adj Close'].plot(figsize=(20,6))"
      ],
      "execution_count": null,
      "outputs": [
        {
          "output_type": "execute_result",
          "data": {
            "text/plain": [
              "<matplotlib.axes._subplots.AxesSubplot at 0x7ff45dd73cd0>"
            ]
          },
          "metadata": {
            "tags": []
          },
          "execution_count": 43
        },
        {
          "output_type": "display_data",
          "data": {
            "image/png": "[encoded data removed]",
            "text/plain": [
              "<Figure size 1440x432 with 1 Axes>"
            ]
          },
          "metadata": {
            "tags": [],
            "needs_background": "light"
          }
        }
      ]
    },
    {
      "cell_type": "code",
      "metadata": {
        "id": "fLKHezgkkFJN"
      },
      "source": [
        "# Média Móvel\n"
      ],
      "execution_count": null,
      "outputs": []
    },
    {
      "cell_type": "markdown",
      "metadata": {
        "id": "IWSVAbTIkg1T"
      },
      "source": [
        ""
      ]
    },
    {
      "cell_type": "code",
      "metadata": {
        "colab": {
          "base_uri": "https://localhost:8080/",
          "height": 324
        },
        "id": "QajNqqkYknlb",
        "outputId": "00408329-0745-44ca-9291-7175979c1e42"
      },
      "source": [
        "data['Adj Close'].plot(figsize=(20,6), label= '/content/ABEVfinanças.csv')\n",
        "data['Adj Close'].rolling(10).mean().plot(label = '10 dias')\n",
        "data['Adj Close'].rolling(50).mean().plot(label = '50 dias')"
      ],
      "execution_count": null,
      "outputs": [
        {
          "output_type": "execute_result",
          "data": {
            "text/plain": [
              "<matplotlib.axes._subplots.AxesSubplot at 0x7ff45dc7fad0>"
            ]
          },
          "metadata": {
            "tags": []
          },
          "execution_count": 46
        },
        {
          "output_type": "display_data",
          "data": {
            "image/png": "[encoded data removed]",
            "text/plain": [
              "<Figure size 1440x432 with 1 Axes>"
            ]
          },
          "metadata": {
            "tags": [],
            "needs_background": "light"
          }
        }
      ]
    },
    {
      "cell_type": "code",
      "metadata": {
        "id": "bbLLEeLJlo0p"
      },
      "source": [
        ""
      ],
      "execution_count": null,
      "outputs": []
    },
    {
      "cell_type": "markdown",
      "metadata": {
        "id": "ZB7hlTa_l1A0"
      },
      "source": [
        "#Percentual de Retorno"
      ]
    },
    {
      "cell_type": "code",
      "metadata": {
        "id": "nXF463yCl3gt"
      },
      "source": [
        "data['Return'] = data['Adj Close'].pct_change()"
      ],
      "execution_count": null,
      "outputs": []
    },
    {
      "cell_type": "code",
      "metadata": {
        "colab": {
          "base_uri": "https://localhost:8080/",
          "height": 204
        },
        "id": "HDcLhITimnGG",
        "outputId": "8e23f531-49a3-4bbf-e886-00da2bf8e59c"
      },
      "source": [
        "data.head()"
      ],
      "execution_count": null,
      "outputs": [
        {
          "output_type": "execute_result",
          "data": {
            "text/html": [
              "<div>\n",
              "<style scoped>\n",
              "    .dataframe tbody tr th:only-of-type {\n",
              "        vertical-align: middle;\n",
              "    }\n",
              "\n",
              "    .dataframe tbody tr th {\n",
              "        vertical-align: top;\n",
              "    }\n",
              "\n",
              "    .dataframe thead th {\n",
              "        text-align: right;\n",
              "    }\n",
              "</style>\n",
              "<table border=\"1\" class=\"dataframe\">\n",
              "  <thead>\n",
              "    <tr style=\"text-align: right;\">\n",
              "      <th></th>\n",
              "      <th>Date</th>\n",
              "      <th>Open</th>\n",
              "      <th>High</th>\n",
              "      <th>Low</th>\n",
              "      <th>Close</th>\n",
              "      <th>Adj Close</th>\n",
              "      <th>Volume</th>\n",
              "      <th>Return</th>\n",
              "    </tr>\n",
              "  </thead>\n",
              "  <tbody>\n",
              "    <tr>\n",
              "      <th>0</th>\n",
              "      <td>2020-07-22</td>\n",
              "      <td>2.91</td>\n",
              "      <td>2.99</td>\n",
              "      <td>2.87</td>\n",
              "      <td>2.90</td>\n",
              "      <td>2.811694</td>\n",
              "      <td>52349400</td>\n",
              "      <td>NaN</td>\n",
              "    </tr>\n",
              "    <tr>\n",
              "      <th>1</th>\n",
              "      <td>2020-07-23</td>\n",
              "      <td>2.89</td>\n",
              "      <td>2.90</td>\n",
              "      <td>2.78</td>\n",
              "      <td>2.79</td>\n",
              "      <td>2.705044</td>\n",
              "      <td>21725400</td>\n",
              "      <td>-0.037931</td>\n",
              "    </tr>\n",
              "    <tr>\n",
              "      <th>2</th>\n",
              "      <td>2020-07-24</td>\n",
              "      <td>2.80</td>\n",
              "      <td>2.88</td>\n",
              "      <td>2.75</td>\n",
              "      <td>2.87</td>\n",
              "      <td>2.782608</td>\n",
              "      <td>31077900</td>\n",
              "      <td>0.028674</td>\n",
              "    </tr>\n",
              "    <tr>\n",
              "      <th>3</th>\n",
              "      <td>2020-07-27</td>\n",
              "      <td>2.89</td>\n",
              "      <td>3.00</td>\n",
              "      <td>2.87</td>\n",
              "      <td>2.99</td>\n",
              "      <td>2.898954</td>\n",
              "      <td>48253500</td>\n",
              "      <td>0.041812</td>\n",
              "    </tr>\n",
              "    <tr>\n",
              "      <th>4</th>\n",
              "      <td>2020-07-28</td>\n",
              "      <td>2.94</td>\n",
              "      <td>2.99</td>\n",
              "      <td>2.92</td>\n",
              "      <td>2.93</td>\n",
              "      <td>2.840781</td>\n",
              "      <td>35456300</td>\n",
              "      <td>-0.020067</td>\n",
              "    </tr>\n",
              "  </tbody>\n",
              "</table>\n",
              "</div>"
            ],
            "text/plain": [
              "         Date  Open  High   Low  Close  Adj Close    Volume    Return\n",
              "0  2020-07-22  2.91  2.99  2.87   2.90   2.811694  52349400       NaN\n",
              "1  2020-07-23  2.89  2.90  2.78   2.79   2.705044  21725400 -0.037931\n",
              "2  2020-07-24  2.80  2.88  2.75   2.87   2.782608  31077900  0.028674\n",
              "3  2020-07-27  2.89  3.00  2.87   2.99   2.898954  48253500  0.041812\n",
              "4  2020-07-28  2.94  2.99  2.92   2.93   2.840781  35456300 -0.020067"
            ]
          },
          "metadata": {
            "tags": []
          },
          "execution_count": 49
        }
      ]
    },
    {
      "cell_type": "code",
      "metadata": {
        "id": "wRMeSwE3mrMy"
      },
      "source": [
        "media_percentual_retorno = data['Return'].mean()*100"
      ],
      "execution_count": null,
      "outputs": []
    },
    {
      "cell_type": "code",
      "metadata": {
        "colab": {
          "base_uri": "https://localhost:8080/"
        },
        "id": "6WSV15iBnYkn",
        "outputId": "475c7a37-fd62-4a78-8649-eea3b0ace102"
      },
      "source": [
        "print(f\"Percentual Retorno Médio:{media_percentual_retorno}\")"
      ],
      "execution_count": null,
      "outputs": [
        {
          "output_type": "stream",
          "text": [
            "Percentual Retorno Médio:0.0948279956298262\n"
          ],
          "name": "stdout"
        }
      ]
    },
    {
      "cell_type": "code",
      "metadata": {
        "id": "QvpaZHaHn1Ru"
      },
      "source": [
        ""
      ],
      "execution_count": null,
      "outputs": []
    },
    {
      "cell_type": "markdown",
      "metadata": {
        "id": "MErH6GEvoUxW"
      },
      "source": [
        "##Desvio Padrão"
      ]
    },
    {
      "cell_type": "code",
      "metadata": {
        "id": "3CBbMKSxoXSs"
      },
      "source": [
        "desvio_padrao_retorno = data.Return.std()"
      ],
      "execution_count": null,
      "outputs": []
    },
    {
      "cell_type": "code",
      "metadata": {
        "colab": {
          "base_uri": "https://localhost:8080/"
        },
        "id": "kLaZwX16okGD",
        "outputId": "c7054355-7a69-401f-de03-bd72903187f9"
      },
      "source": [
        "print('Percentual Retorno Medio = {:.4f}'.format(desvio_padrao_retorno))"
      ],
      "execution_count": null,
      "outputs": [
        {
          "output_type": "stream",
          "text": [
            "Percentual Retorno Medio = 0.0269\n"
          ],
          "name": "stdout"
        }
      ]
    },
    {
      "cell_type": "code",
      "metadata": {
        "colab": {
          "base_uri": "https://localhost:8080/",
          "height": 284
        },
        "id": "QPa79sZdpMUB",
        "outputId": "00255f76-1e95-4348-b5ae-008048fde6e5"
      },
      "source": [
        "data['Return'].plot()"
      ],
      "execution_count": null,
      "outputs": [
        {
          "output_type": "execute_result",
          "data": {
            "text/plain": [
              "<matplotlib.axes._subplots.AxesSubplot at 0x7ff45c1a4650>"
            ]
          },
          "metadata": {
            "tags": []
          },
          "execution_count": 56
        },
        {
          "output_type": "display_data",
          "data": {
            "image/png": "[encoded data removed]",
            "text/plain": [
              "<Figure size 432x288 with 1 Axes>"
            ]
          },
          "metadata": {
            "tags": [],
            "needs_background": "light"
          }
        }
      ]
    },
    {
      "cell_type": "code",
      "metadata": {
        "colab": {
          "base_uri": "https://localhost:8080/"
        },
        "id": "WEYEoOCMpZ-9",
        "outputId": "e5496b21-c164-4339-a685-7fe632f63ce4"
      },
      "source": [
        "data.isnull().sum()"
      ],
      "execution_count": null,
      "outputs": [
        {
          "output_type": "execute_result",
          "data": {
            "text/plain": [
              "Date         0\n",
              "Open         0\n",
              "High         0\n",
              "Low          0\n",
              "Close        0\n",
              "Adj Close    0\n",
              "Volume       0\n",
              "Return       1\n",
              "dtype: int64"
            ]
          },
          "metadata": {
            "tags": []
          },
          "execution_count": 57
        }
      ]
    },
    {
      "cell_type": "code",
      "metadata": {
        "id": "itwrCdPKqyAN"
      },
      "source": [
        "data['Return'].fillna((data['Return'].mean()), inplace = True)"
      ],
      "execution_count": null,
      "outputs": []
    },
    {
      "cell_type": "code",
      "metadata": {
        "colab": {
          "base_uri": "https://localhost:8080/",
          "height": 204
        },
        "id": "F3jwncCLrb-Q",
        "outputId": "d5f972af-27bf-491d-c233-5aa30d9f040f"
      },
      "source": [
        "data.head()"
      ],
      "execution_count": null,
      "outputs": [
        {
          "output_type": "execute_result",
          "data": {
            "text/html": [
              "<div>\n",
              "<style scoped>\n",
              "    .dataframe tbody tr th:only-of-type {\n",
              "        vertical-align: middle;\n",
              "    }\n",
              "\n",
              "    .dataframe tbody tr th {\n",
              "        vertical-align: top;\n",
              "    }\n",
              "\n",
              "    .dataframe thead th {\n",
              "        text-align: right;\n",
              "    }\n",
              "</style>\n",
              "<table border=\"1\" class=\"dataframe\">\n",
              "  <thead>\n",
              "    <tr style=\"text-align: right;\">\n",
              "      <th></th>\n",
              "      <th>Date</th>\n",
              "      <th>Open</th>\n",
              "      <th>High</th>\n",
              "      <th>Low</th>\n",
              "      <th>Close</th>\n",
              "      <th>Adj Close</th>\n",
              "      <th>Volume</th>\n",
              "      <th>Return</th>\n",
              "    </tr>\n",
              "  </thead>\n",
              "  <tbody>\n",
              "    <tr>\n",
              "      <th>0</th>\n",
              "      <td>2020-07-22</td>\n",
              "      <td>2.91</td>\n",
              "      <td>2.99</td>\n",
              "      <td>2.87</td>\n",
              "      <td>2.90</td>\n",
              "      <td>2.811694</td>\n",
              "      <td>52349400</td>\n",
              "      <td>0.000948</td>\n",
              "    </tr>\n",
              "    <tr>\n",
              "      <th>1</th>\n",
              "      <td>2020-07-23</td>\n",
              "      <td>2.89</td>\n",
              "      <td>2.90</td>\n",
              "      <td>2.78</td>\n",
              "      <td>2.79</td>\n",
              "      <td>2.705044</td>\n",
              "      <td>21725400</td>\n",
              "      <td>-0.037931</td>\n",
              "    </tr>\n",
              "    <tr>\n",
              "      <th>2</th>\n",
              "      <td>2020-07-24</td>\n",
              "      <td>2.80</td>\n",
              "      <td>2.88</td>\n",
              "      <td>2.75</td>\n",
              "      <td>2.87</td>\n",
              "      <td>2.782608</td>\n",
              "      <td>31077900</td>\n",
              "      <td>0.028674</td>\n",
              "    </tr>\n",
              "    <tr>\n",
              "      <th>3</th>\n",
              "      <td>2020-07-27</td>\n",
              "      <td>2.89</td>\n",
              "      <td>3.00</td>\n",
              "      <td>2.87</td>\n",
              "      <td>2.99</td>\n",
              "      <td>2.898954</td>\n",
              "      <td>48253500</td>\n",
              "      <td>0.041812</td>\n",
              "    </tr>\n",
              "    <tr>\n",
              "      <th>4</th>\n",
              "      <td>2020-07-28</td>\n",
              "      <td>2.94</td>\n",
              "      <td>2.99</td>\n",
              "      <td>2.92</td>\n",
              "      <td>2.93</td>\n",
              "      <td>2.840781</td>\n",
              "      <td>35456300</td>\n",
              "      <td>-0.020067</td>\n",
              "    </tr>\n",
              "  </tbody>\n",
              "</table>\n",
              "</div>"
            ],
            "text/plain": [
              "         Date  Open  High   Low  Close  Adj Close    Volume    Return\n",
              "0  2020-07-22  2.91  2.99  2.87   2.90   2.811694  52349400  0.000948\n",
              "1  2020-07-23  2.89  2.90  2.78   2.79   2.705044  21725400 -0.037931\n",
              "2  2020-07-24  2.80  2.88  2.75   2.87   2.782608  31077900  0.028674\n",
              "3  2020-07-27  2.89  3.00  2.87   2.99   2.898954  48253500  0.041812\n",
              "4  2020-07-28  2.94  2.99  2.92   2.93   2.840781  35456300 -0.020067"
            ]
          },
          "metadata": {
            "tags": []
          },
          "execution_count": 59
        }
      ]
    },
    {
      "cell_type": "code",
      "metadata": {
        "colab": {
          "base_uri": "https://localhost:8080/"
        },
        "id": "ToT7Q4TprfG-",
        "outputId": "26e8086c-0796-4a8e-c23f-94927be34cd3"
      },
      "source": [
        "data.dtypes"
      ],
      "execution_count": null,
      "outputs": [
        {
          "output_type": "execute_result",
          "data": {
            "text/plain": [
              "Date          object\n",
              "Open         float64\n",
              "High         float64\n",
              "Low          float64\n",
              "Close        float64\n",
              "Adj Close    float64\n",
              "Volume         int64\n",
              "Return       float64\n",
              "dtype: object"
            ]
          },
          "metadata": {
            "tags": []
          },
          "execution_count": 60
        }
      ]
    },
    {
      "cell_type": "code",
      "metadata": {
        "id": "_4jP-9AY6ich"
      },
      "source": [
        "media_adj_close = data['Adj Close'].mean()"
      ],
      "execution_count": null,
      "outputs": []
    },
    {
      "cell_type": "code",
      "metadata": {
        "colab": {
          "base_uri": "https://localhost:8080/"
        },
        "id": "d5fyE9Bu63ta",
        "outputId": "975e5d32-4bab-4249-e9ac-7316f70b22fb"
      },
      "source": [
        "print (f'Média do Preço de Fechamento Ajustado:{media_adj_close}')"
      ],
      "execution_count": null,
      "outputs": [
        {
          "output_type": "stream",
          "text": [
            "Média do Preço de Fechamento Ajustado:2.8218051388888896\n"
          ],
          "name": "stdout"
        }
      ]
    },
    {
      "cell_type": "code",
      "metadata": {
        "id": "hhHQBonv7GRa"
      },
      "source": [
        "data.loc[data[\"Adj Close\"] <= media_adj_close, \"Buy\"] = 1\n",
        "data.loc[data[\"Adj Close\"] > media_adj_close, \"Buy\"] = 9"
      ],
      "execution_count": null,
      "outputs": []
    },
    {
      "cell_type": "code",
      "metadata": {
        "colab": {
          "base_uri": "https://localhost:8080/",
          "height": 204
        },
        "id": "Rq270qw07v35",
        "outputId": "d99b3438-f684-4f0c-ebc8-b19f630c81d4"
      },
      "source": [
        "data.head()"
      ],
      "execution_count": null,
      "outputs": [
        {
          "output_type": "execute_result",
          "data": {
            "text/html": [
              "<div>\n",
              "<style scoped>\n",
              "    .dataframe tbody tr th:only-of-type {\n",
              "        vertical-align: middle;\n",
              "    }\n",
              "\n",
              "    .dataframe tbody tr th {\n",
              "        vertical-align: top;\n",
              "    }\n",
              "\n",
              "    .dataframe thead th {\n",
              "        text-align: right;\n",
              "    }\n",
              "</style>\n",
              "<table border=\"1\" class=\"dataframe\">\n",
              "  <thead>\n",
              "    <tr style=\"text-align: right;\">\n",
              "      <th></th>\n",
              "      <th>Date</th>\n",
              "      <th>Open</th>\n",
              "      <th>High</th>\n",
              "      <th>Low</th>\n",
              "      <th>Close</th>\n",
              "      <th>Adj Close</th>\n",
              "      <th>Volume</th>\n",
              "      <th>Return</th>\n",
              "      <th>Buy</th>\n",
              "    </tr>\n",
              "  </thead>\n",
              "  <tbody>\n",
              "    <tr>\n",
              "      <th>0</th>\n",
              "      <td>2020-07-22</td>\n",
              "      <td>2.91</td>\n",
              "      <td>2.99</td>\n",
              "      <td>2.87</td>\n",
              "      <td>2.90</td>\n",
              "      <td>2.811694</td>\n",
              "      <td>52349400</td>\n",
              "      <td>0.000948</td>\n",
              "      <td>1.0</td>\n",
              "    </tr>\n",
              "    <tr>\n",
              "      <th>1</th>\n",
              "      <td>2020-07-23</td>\n",
              "      <td>2.89</td>\n",
              "      <td>2.90</td>\n",
              "      <td>2.78</td>\n",
              "      <td>2.79</td>\n",
              "      <td>2.705044</td>\n",
              "      <td>21725400</td>\n",
              "      <td>-0.037931</td>\n",
              "      <td>1.0</td>\n",
              "    </tr>\n",
              "    <tr>\n",
              "      <th>2</th>\n",
              "      <td>2020-07-24</td>\n",
              "      <td>2.80</td>\n",
              "      <td>2.88</td>\n",
              "      <td>2.75</td>\n",
              "      <td>2.87</td>\n",
              "      <td>2.782608</td>\n",
              "      <td>31077900</td>\n",
              "      <td>0.028674</td>\n",
              "      <td>1.0</td>\n",
              "    </tr>\n",
              "    <tr>\n",
              "      <th>3</th>\n",
              "      <td>2020-07-27</td>\n",
              "      <td>2.89</td>\n",
              "      <td>3.00</td>\n",
              "      <td>2.87</td>\n",
              "      <td>2.99</td>\n",
              "      <td>2.898954</td>\n",
              "      <td>48253500</td>\n",
              "      <td>0.041812</td>\n",
              "      <td>9.0</td>\n",
              "    </tr>\n",
              "    <tr>\n",
              "      <th>4</th>\n",
              "      <td>2020-07-28</td>\n",
              "      <td>2.94</td>\n",
              "      <td>2.99</td>\n",
              "      <td>2.92</td>\n",
              "      <td>2.93</td>\n",
              "      <td>2.840781</td>\n",
              "      <td>35456300</td>\n",
              "      <td>-0.020067</td>\n",
              "      <td>9.0</td>\n",
              "    </tr>\n",
              "  </tbody>\n",
              "</table>\n",
              "</div>"
            ],
            "text/plain": [
              "         Date  Open  High   Low  Close  Adj Close    Volume    Return  Buy\n",
              "0  2020-07-22  2.91  2.99  2.87   2.90   2.811694  52349400  0.000948  1.0\n",
              "1  2020-07-23  2.89  2.90  2.78   2.79   2.705044  21725400 -0.037931  1.0\n",
              "2  2020-07-24  2.80  2.88  2.75   2.87   2.782608  31077900  0.028674  1.0\n",
              "3  2020-07-27  2.89  3.00  2.87   2.99   2.898954  48253500  0.041812  9.0\n",
              "4  2020-07-28  2.94  2.99  2.92   2.93   2.840781  35456300 -0.020067  9.0"
            ]
          },
          "metadata": {
            "tags": []
          },
          "execution_count": 64
        }
      ]
    },
    {
      "cell_type": "code",
      "metadata": {
        "colab": {
          "base_uri": "https://localhost:8080/"
        },
        "id": "SFmT1Y6J7yZQ",
        "outputId": "88f61ed0-ec41-4ff8-c7e5-1b13949256d3"
      },
      "source": [
        "data['Buy'].value_counts()"
      ],
      "execution_count": null,
      "outputs": [
        {
          "output_type": "execute_result",
          "data": {
            "text/plain": [
              "1.0    140\n",
              "9.0    112\n",
              "Name: Buy, dtype: int64"
            ]
          },
          "metadata": {
            "tags": []
          },
          "execution_count": 67
        }
      ]
    },
    {
      "cell_type": "code",
      "metadata": {
        "colab": {
          "base_uri": "https://localhost:8080/"
        },
        "id": "q1BrUS7E8PHc",
        "outputId": "03ec77b9-df5e-4325-c4cf-a31d9e980079"
      },
      "source": [
        "data.columns"
      ],
      "execution_count": null,
      "outputs": [
        {
          "output_type": "execute_result",
          "data": {
            "text/plain": [
              "Index(['Date', 'Open', 'High', 'Low', 'Close', 'Adj Close', 'Volume', 'Return',\n",
              "       'Buy'],\n",
              "      dtype='object')"
            ]
          },
          "metadata": {
            "tags": []
          },
          "execution_count": 68
        }
      ]
    },
    {
      "cell_type": "code",
      "metadata": {
        "id": "0QgIJNoS8clP"
      },
      "source": [
        "x_train = pd.DataFrame()\n",
        "y_train = pd.DataFrame()"
      ],
      "execution_count": null,
      "outputs": []
    },
    {
      "cell_type": "code",
      "metadata": {
        "colab": {
          "base_uri": "https://localhost:8080/",
          "height": 242
        },
        "id": "UdbXXJio9bVF",
        "outputId": "3964b656-24bb-4385-c4a6-898049638dca"
      },
      "source": [
        "plt.figure(figsize= (10,3))\n",
        "sns.countplot(y=\"Buy\", data=data)"
      ],
      "execution_count": null,
      "outputs": [
        {
          "output_type": "execute_result",
          "data": {
            "text/plain": [
              "<matplotlib.axes._subplots.AxesSubplot at 0x7ff45b11c490>"
            ]
          },
          "metadata": {
            "tags": []
          },
          "execution_count": 77
        },
        {
          "output_type": "display_data",
          "data": {
            "image/png": "[encoded data removed]",
            "text/plain": [
              "<Figure size 720x216 with 1 Axes>"
            ]
          },
          "metadata": {
            "tags": [],
            "needs_background": "light"
          }
        }
      ]
    },
    {
      "cell_type": "code",
      "metadata": {
        "colab": {
          "base_uri": "https://localhost:8080/"
        },
        "id": "9abE4Faa_Afh",
        "outputId": "960f418e-689f-4c70-f117-14d4de423494"
      },
      "source": [
        "x_train.index"
      ],
      "execution_count": null,
      "outputs": [
        {
          "output_type": "execute_result",
          "data": {
            "text/plain": [
              "Index([], dtype='object')"
            ]
          },
          "metadata": {
            "tags": []
          },
          "execution_count": 78
        }
      ]
    },
    {
      "cell_type": "code",
      "metadata": {
        "id": "wbAs4njP_fWf"
      },
      "source": [
        "x_train['High'] = data['High']"
      ],
      "execution_count": null,
      "outputs": []
    },
    {
      "cell_type": "code",
      "metadata": {
        "colab": {
          "base_uri": "https://localhost:8080/",
          "height": 204
        },
        "id": "wvy0BF8H_u9R",
        "outputId": "727d6b2f-74cf-4314-cac7-0b111a3bbe54"
      },
      "source": [
        "x_train.head()"
      ],
      "execution_count": null,
      "outputs": [
        {
          "output_type": "execute_result",
          "data": {
            "text/html": [
              "<div>\n",
              "<style scoped>\n",
              "    .dataframe tbody tr th:only-of-type {\n",
              "        vertical-align: middle;\n",
              "    }\n",
              "\n",
              "    .dataframe tbody tr th {\n",
              "        vertical-align: top;\n",
              "    }\n",
              "\n",
              "    .dataframe thead th {\n",
              "        text-align: right;\n",
              "    }\n",
              "</style>\n",
              "<table border=\"1\" class=\"dataframe\">\n",
              "  <thead>\n",
              "    <tr style=\"text-align: right;\">\n",
              "      <th></th>\n",
              "      <th>High</th>\n",
              "    </tr>\n",
              "  </thead>\n",
              "  <tbody>\n",
              "    <tr>\n",
              "      <th>0</th>\n",
              "      <td>2.99</td>\n",
              "    </tr>\n",
              "    <tr>\n",
              "      <th>1</th>\n",
              "      <td>2.90</td>\n",
              "    </tr>\n",
              "    <tr>\n",
              "      <th>2</th>\n",
              "      <td>2.88</td>\n",
              "    </tr>\n",
              "    <tr>\n",
              "      <th>3</th>\n",
              "      <td>3.00</td>\n",
              "    </tr>\n",
              "    <tr>\n",
              "      <th>4</th>\n",
              "      <td>2.99</td>\n",
              "    </tr>\n",
              "  </tbody>\n",
              "</table>\n",
              "</div>"
            ],
            "text/plain": [
              "   High\n",
              "0  2.99\n",
              "1  2.90\n",
              "2  2.88\n",
              "3  3.00\n",
              "4  2.99"
            ]
          },
          "metadata": {
            "tags": []
          },
          "execution_count": 80
        }
      ]
    },
    {
      "cell_type": "code",
      "metadata": {
        "id": "fXAgxcOP_y1d"
      },
      "source": [
        "x_train['Low'] = data['Low']\n",
        "x_train['Open'] = data['Open']\n",
        "x_train['Close'] = data['Close']\n",
        "x_train['Adj Close'] = data['Adj Close']\n",
        "x_train['Volume'] = data['Volume']\n",
        "x_train['Return'] = data['Return']"
      ],
      "execution_count": null,
      "outputs": []
    },
    {
      "cell_type": "code",
      "metadata": {
        "colab": {
          "base_uri": "https://localhost:8080/",
          "height": 204
        },
        "id": "wp2dty2fAfR-",
        "outputId": "ea226d84-bee2-4a69-bf13-6dc2e42b0298"
      },
      "source": [
        "x_train.head()"
      ],
      "execution_count": null,
      "outputs": [
        {
          "output_type": "execute_result",
          "data": {
            "text/html": [
              "<div>\n",
              "<style scoped>\n",
              "    .dataframe tbody tr th:only-of-type {\n",
              "        vertical-align: middle;\n",
              "    }\n",
              "\n",
              "    .dataframe tbody tr th {\n",
              "        vertical-align: top;\n",
              "    }\n",
              "\n",
              "    .dataframe thead th {\n",
              "        text-align: right;\n",
              "    }\n",
              "</style>\n",
              "<table border=\"1\" class=\"dataframe\">\n",
              "  <thead>\n",
              "    <tr style=\"text-align: right;\">\n",
              "      <th></th>\n",
              "      <th>High</th>\n",
              "      <th>Low</th>\n",
              "      <th>Open</th>\n",
              "      <th>Close</th>\n",
              "      <th>Adj Close</th>\n",
              "      <th>Return</th>\n",
              "    </tr>\n",
              "  </thead>\n",
              "  <tbody>\n",
              "    <tr>\n",
              "      <th>0</th>\n",
              "      <td>2.99</td>\n",
              "      <td>2.87</td>\n",
              "      <td>2.91</td>\n",
              "      <td>2.90</td>\n",
              "      <td>2.811694</td>\n",
              "      <td>0.000948</td>\n",
              "    </tr>\n",
              "    <tr>\n",
              "      <th>1</th>\n",
              "      <td>2.90</td>\n",
              "      <td>2.78</td>\n",
              "      <td>2.89</td>\n",
              "      <td>2.79</td>\n",
              "      <td>2.705044</td>\n",
              "      <td>-0.037931</td>\n",
              "    </tr>\n",
              "    <tr>\n",
              "      <th>2</th>\n",
              "      <td>2.88</td>\n",
              "      <td>2.75</td>\n",
              "      <td>2.80</td>\n",
              "      <td>2.87</td>\n",
              "      <td>2.782608</td>\n",
              "      <td>0.028674</td>\n",
              "    </tr>\n",
              "    <tr>\n",
              "      <th>3</th>\n",
              "      <td>3.00</td>\n",
              "      <td>2.87</td>\n",
              "      <td>2.89</td>\n",
              "      <td>2.99</td>\n",
              "      <td>2.898954</td>\n",
              "      <td>0.041812</td>\n",
              "    </tr>\n",
              "    <tr>\n",
              "      <th>4</th>\n",
              "      <td>2.99</td>\n",
              "      <td>2.92</td>\n",
              "      <td>2.94</td>\n",
              "      <td>2.93</td>\n",
              "      <td>2.840781</td>\n",
              "      <td>-0.020067</td>\n",
              "    </tr>\n",
              "  </tbody>\n",
              "</table>\n",
              "</div>"
            ],
            "text/plain": [
              "   High   Low  Open  Close  Adj Close    Return\n",
              "0  2.99  2.87  2.91   2.90   2.811694  0.000948\n",
              "1  2.90  2.78  2.89   2.79   2.705044 -0.037931\n",
              "2  2.88  2.75  2.80   2.87   2.782608  0.028674\n",
              "3  3.00  2.87  2.89   2.99   2.898954  0.041812\n",
              "4  2.99  2.92  2.94   2.93   2.840781 -0.020067"
            ]
          },
          "metadata": {
            "tags": []
          },
          "execution_count": 82
        }
      ]
    },
    {
      "cell_type": "code",
      "metadata": {
        "id": "FwDFC8uNAh1v"
      },
      "source": [
        "y_train['Buy'] = data['Buy']"
      ],
      "execution_count": null,
      "outputs": []
    },
    {
      "cell_type": "code",
      "metadata": {
        "colab": {
          "base_uri": "https://localhost:8080/",
          "height": 204
        },
        "id": "WVkHHigqA_sb",
        "outputId": "f4153d5e-6cbf-47cf-e621-ee271f995e59"
      },
      "source": [
        "y_train.head()"
      ],
      "execution_count": null,
      "outputs": [
        {
          "output_type": "execute_result",
          "data": {
            "text/html": [
              "<div>\n",
              "<style scoped>\n",
              "    .dataframe tbody tr th:only-of-type {\n",
              "        vertical-align: middle;\n",
              "    }\n",
              "\n",
              "    .dataframe tbody tr th {\n",
              "        vertical-align: top;\n",
              "    }\n",
              "\n",
              "    .dataframe thead th {\n",
              "        text-align: right;\n",
              "    }\n",
              "</style>\n",
              "<table border=\"1\" class=\"dataframe\">\n",
              "  <thead>\n",
              "    <tr style=\"text-align: right;\">\n",
              "      <th></th>\n",
              "      <th>Buy</th>\n",
              "    </tr>\n",
              "  </thead>\n",
              "  <tbody>\n",
              "    <tr>\n",
              "      <th>0</th>\n",
              "      <td>1.0</td>\n",
              "    </tr>\n",
              "    <tr>\n",
              "      <th>1</th>\n",
              "      <td>1.0</td>\n",
              "    </tr>\n",
              "    <tr>\n",
              "      <th>2</th>\n",
              "      <td>1.0</td>\n",
              "    </tr>\n",
              "    <tr>\n",
              "      <th>3</th>\n",
              "      <td>9.0</td>\n",
              "    </tr>\n",
              "    <tr>\n",
              "      <th>4</th>\n",
              "      <td>9.0</td>\n",
              "    </tr>\n",
              "  </tbody>\n",
              "</table>\n",
              "</div>"
            ],
            "text/plain": [
              "   Buy\n",
              "0  1.0\n",
              "1  1.0\n",
              "2  1.0\n",
              "3  9.0\n",
              "4  9.0"
            ]
          },
          "metadata": {
            "tags": []
          },
          "execution_count": 84
        }
      ]
    },
    {
      "cell_type": "code",
      "metadata": {
        "colab": {
          "base_uri": "https://localhost:8080/"
        },
        "id": "9wWmiK83BCfM",
        "outputId": "b650bb25-082f-42fd-8173-1f2d61e23733"
      },
      "source": [
        "x_train.shape"
      ],
      "execution_count": null,
      "outputs": [
        {
          "output_type": "execute_result",
          "data": {
            "text/plain": [
              "(252, 6)"
            ]
          },
          "metadata": {
            "tags": []
          },
          "execution_count": 85
        }
      ]
    },
    {
      "cell_type": "code",
      "metadata": {
        "colab": {
          "base_uri": "https://localhost:8080/"
        },
        "id": "QKCB0ng_BQy9",
        "outputId": "d8306d86-b863-4937-c561-c59a244c683b"
      },
      "source": [
        "y_train.shape"
      ],
      "execution_count": null,
      "outputs": [
        {
          "output_type": "execute_result",
          "data": {
            "text/plain": [
              "(252, 1)"
            ]
          },
          "metadata": {
            "tags": []
          },
          "execution_count": 86
        }
      ]
    },
    {
      "cell_type": "code",
      "metadata": {
        "id": "lIJbNdzdBVEu"
      },
      "source": [
        "def fit_ml(algoritmo, x_train, y_train, cv):\n",
        "  model = algoritmo.fit (x_train, y_train)\n",
        "  acc = round (model.score(x_train, y_train)*100,2)\n",
        "\n",
        "  train_pred = model_selection.cross_val_predict(algoritmo, x_train, y_train, cv=cv, n_jobs = -1)\n",
        "  acc_cv = round(metrics.accuracy_score(y_train, train_pred) * 100,2)\n",
        "  return train_pred, acc, acc_cv"
      ],
      "execution_count": null,
      "outputs": []
    },
    {
      "cell_type": "code",
      "metadata": {
        "id": "fcq4uEZRC3hd"
      },
      "source": [
        "start_time = time.time()"
      ],
      "execution_count": null,
      "outputs": []
    },
    {
      "cell_type": "code",
      "metadata": {
        "colab": {
          "base_uri": "https://localhost:8080/"
        },
        "id": "702jIrFfDGUw",
        "outputId": "2cb6a524-7a78-42cb-d39d-b6c5d0bbbcf0"
      },
      "source": [
        "train_pred_log, acc_log, acc_cv_log = fit_ml(LogisticRegression(), x_train, y_train, 10)\n",
        "log_time = (time.time() - start_time)\n",
        "print (\"Acurácia: %s\" %acc_log)\n",
        "print (\"Acurácia Cruzada: %s\" %acc_cv_log)\n",
        "print (\"Tempo: %s\" %datetime.timedelta(seconds= log_time))"
      ],
      "execution_count": null,
      "outputs": [
        {
          "output_type": "stream",
          "text": [
            "Acurácia: 92.86\n",
            "Acurácia Cruzada: 91.67\n",
            "Tempo: 0:18:08.960162\n"
          ],
          "name": "stdout"
        },
        {
          "output_type": "stream",
          "text": [
            "/usr/local/lib/python3.7/dist-packages/sklearn/utils/validation.py:760: DataConversionWarning: A column-vector y was passed when a 1d array was expected. Please change the shape of y to (n_samples, ), for example using ravel().\n",
            "  y = column_or_1d(y, warn=True)\n"
          ],
          "name": "stderr"
        }
      ]
    },
    {
      "cell_type": "code",
      "metadata": {
        "colab": {
          "base_uri": "https://localhost:8080/"
        },
        "id": "yYchkJLkGp_B",
        "outputId": "fb808e88-6c47-4511-c758-4681de6f1f4e"
      },
      "source": [
        "start_time = time.time()\n",
        "train_pred_log, acc_log, acc_cv_log = fit_ml(LinearSVC(), x_train, y_train, 10)\n",
        "log_time = (time.time() - start_time)\n",
        "print (\"Acurácia: %s\" %acc_log)\n",
        "print (\"Acurácia Cruzada: %s\" %acc_cv_log)\n",
        "print (\"Tempo: %s\" %datetime.timedelta(seconds= log_time))"
      ],
      "execution_count": null,
      "outputs": [
        {
          "output_type": "stream",
          "text": [
            "Acurácia: 97.62\n",
            "Acurácia Cruzada: 92.86\n",
            "Tempo: 0:00:00.125886\n"
          ],
          "name": "stdout"
        },
        {
          "output_type": "stream",
          "text": [
            "/usr/local/lib/python3.7/dist-packages/sklearn/utils/validation.py:760: DataConversionWarning: A column-vector y was passed when a 1d array was expected. Please change the shape of y to (n_samples, ), for example using ravel().\n",
            "  y = column_or_1d(y, warn=True)\n"
          ],
          "name": "stderr"
        }
      ]
    },
    {
      "cell_type": "code",
      "metadata": {
        "colab": {
          "base_uri": "https://localhost:8080/"
        },
        "id": "fh3mqdOYISWi",
        "outputId": "57a9cfa8-373f-4387-ef2d-573474bea456"
      },
      "source": [
        "model = LogisticRegression()\n",
        "model.fit(x_train, y_train)"
      ],
      "execution_count": null,
      "outputs": [
        {
          "output_type": "stream",
          "text": [
            "/usr/local/lib/python3.7/dist-packages/sklearn/utils/validation.py:760: DataConversionWarning: A column-vector y was passed when a 1d array was expected. Please change the shape of y to (n_samples, ), for example using ravel().\n",
            "  y = column_or_1d(y, warn=True)\n"
          ],
          "name": "stderr"
        },
        {
          "output_type": "execute_result",
          "data": {
            "text/plain": [
              "LogisticRegression(C=1.0, class_weight=None, dual=False, fit_intercept=True,\n",
              "                   intercept_scaling=1, l1_ratio=None, max_iter=100,\n",
              "                   multi_class='auto', n_jobs=None, penalty='l2',\n",
              "                   random_state=None, solver='lbfgs', tol=0.0001, verbose=0,\n",
              "                   warm_start=False)"
            ]
          },
          "metadata": {
            "tags": []
          },
          "execution_count": 102
        }
      ]
    },
    {
      "cell_type": "code",
      "metadata": {
        "colab": {
          "base_uri": "https://localhost:8080/",
          "height": 419
        },
        "id": "mW-E-BcjKNme",
        "outputId": "ae470992-bbab-4799-b7a7-623b08e2bd6e"
      },
      "source": [
        "data.head(len(data))"
      ],
      "execution_count": null,
      "outputs": [
        {
          "output_type": "execute_result",
          "data": {
            "text/html": [
              "<div>\n",
              "<style scoped>\n",
              "    .dataframe tbody tr th:only-of-type {\n",
              "        vertical-align: middle;\n",
              "    }\n",
              "\n",
              "    .dataframe tbody tr th {\n",
              "        vertical-align: top;\n",
              "    }\n",
              "\n",
              "    .dataframe thead th {\n",
              "        text-align: right;\n",
              "    }\n",
              "</style>\n",
              "<table border=\"1\" class=\"dataframe\">\n",
              "  <thead>\n",
              "    <tr style=\"text-align: right;\">\n",
              "      <th></th>\n",
              "      <th>Date</th>\n",
              "      <th>Open</th>\n",
              "      <th>High</th>\n",
              "      <th>Low</th>\n",
              "      <th>Close</th>\n",
              "      <th>Adj Close</th>\n",
              "      <th>Volume</th>\n",
              "      <th>Return</th>\n",
              "      <th>Buy</th>\n",
              "    </tr>\n",
              "  </thead>\n",
              "  <tbody>\n",
              "    <tr>\n",
              "      <th>0</th>\n",
              "      <td>2020-07-22</td>\n",
              "      <td>2.91</td>\n",
              "      <td>2.99</td>\n",
              "      <td>2.87</td>\n",
              "      <td>2.90</td>\n",
              "      <td>2.811694</td>\n",
              "      <td>52349400</td>\n",
              "      <td>0.000948</td>\n",
              "      <td>1.0</td>\n",
              "    </tr>\n",
              "    <tr>\n",
              "      <th>1</th>\n",
              "      <td>2020-07-23</td>\n",
              "      <td>2.89</td>\n",
              "      <td>2.90</td>\n",
              "      <td>2.78</td>\n",
              "      <td>2.79</td>\n",
              "      <td>2.705044</td>\n",
              "      <td>21725400</td>\n",
              "      <td>-0.037931</td>\n",
              "      <td>1.0</td>\n",
              "    </tr>\n",
              "    <tr>\n",
              "      <th>2</th>\n",
              "      <td>2020-07-24</td>\n",
              "      <td>2.80</td>\n",
              "      <td>2.88</td>\n",
              "      <td>2.75</td>\n",
              "      <td>2.87</td>\n",
              "      <td>2.782608</td>\n",
              "      <td>31077900</td>\n",
              "      <td>0.028674</td>\n",
              "      <td>1.0</td>\n",
              "    </tr>\n",
              "    <tr>\n",
              "      <th>3</th>\n",
              "      <td>2020-07-27</td>\n",
              "      <td>2.89</td>\n",
              "      <td>3.00</td>\n",
              "      <td>2.87</td>\n",
              "      <td>2.99</td>\n",
              "      <td>2.898954</td>\n",
              "      <td>48253500</td>\n",
              "      <td>0.041812</td>\n",
              "      <td>9.0</td>\n",
              "    </tr>\n",
              "    <tr>\n",
              "      <th>4</th>\n",
              "      <td>2020-07-28</td>\n",
              "      <td>2.94</td>\n",
              "      <td>2.99</td>\n",
              "      <td>2.92</td>\n",
              "      <td>2.93</td>\n",
              "      <td>2.840781</td>\n",
              "      <td>35456300</td>\n",
              "      <td>-0.020067</td>\n",
              "      <td>9.0</td>\n",
              "    </tr>\n",
              "    <tr>\n",
              "      <th>...</th>\n",
              "      <td>...</td>\n",
              "      <td>...</td>\n",
              "      <td>...</td>\n",
              "      <td>...</td>\n",
              "      <td>...</td>\n",
              "      <td>...</td>\n",
              "      <td>...</td>\n",
              "      <td>...</td>\n",
              "      <td>...</td>\n",
              "    </tr>\n",
              "    <tr>\n",
              "      <th>247</th>\n",
              "      <td>2021-07-15</td>\n",
              "      <td>3.48</td>\n",
              "      <td>3.49</td>\n",
              "      <td>3.37</td>\n",
              "      <td>3.40</td>\n",
              "      <td>3.400000</td>\n",
              "      <td>19507300</td>\n",
              "      <td>-0.020173</td>\n",
              "      <td>9.0</td>\n",
              "    </tr>\n",
              "    <tr>\n",
              "      <th>248</th>\n",
              "      <td>2021-07-16</td>\n",
              "      <td>3.44</td>\n",
              "      <td>3.45</td>\n",
              "      <td>3.37</td>\n",
              "      <td>3.39</td>\n",
              "      <td>3.390000</td>\n",
              "      <td>37988700</td>\n",
              "      <td>-0.002941</td>\n",
              "      <td>9.0</td>\n",
              "    </tr>\n",
              "    <tr>\n",
              "      <th>249</th>\n",
              "      <td>2021-07-19</td>\n",
              "      <td>3.28</td>\n",
              "      <td>3.31</td>\n",
              "      <td>3.17</td>\n",
              "      <td>3.21</td>\n",
              "      <td>3.210000</td>\n",
              "      <td>35854300</td>\n",
              "      <td>-0.053097</td>\n",
              "      <td>9.0</td>\n",
              "    </tr>\n",
              "    <tr>\n",
              "      <th>250</th>\n",
              "      <td>2021-07-20</td>\n",
              "      <td>3.17</td>\n",
              "      <td>3.24</td>\n",
              "      <td>3.16</td>\n",
              "      <td>3.20</td>\n",
              "      <td>3.200000</td>\n",
              "      <td>27402200</td>\n",
              "      <td>-0.003115</td>\n",
              "      <td>9.0</td>\n",
              "    </tr>\n",
              "    <tr>\n",
              "      <th>251</th>\n",
              "      <td>2021-07-21</td>\n",
              "      <td>3.23</td>\n",
              "      <td>3.28</td>\n",
              "      <td>3.19</td>\n",
              "      <td>3.26</td>\n",
              "      <td>3.260000</td>\n",
              "      <td>25459600</td>\n",
              "      <td>0.018750</td>\n",
              "      <td>9.0</td>\n",
              "    </tr>\n",
              "  </tbody>\n",
              "</table>\n",
              "<p>252 rows × 9 columns</p>\n",
              "</div>"
            ],
            "text/plain": [
              "           Date  Open  High   Low  Close  Adj Close    Volume    Return  Buy\n",
              "0    2020-07-22  2.91  2.99  2.87   2.90   2.811694  52349400  0.000948  1.0\n",
              "1    2020-07-23  2.89  2.90  2.78   2.79   2.705044  21725400 -0.037931  1.0\n",
              "2    2020-07-24  2.80  2.88  2.75   2.87   2.782608  31077900  0.028674  1.0\n",
              "3    2020-07-27  2.89  3.00  2.87   2.99   2.898954  48253500  0.041812  9.0\n",
              "4    2020-07-28  2.94  2.99  2.92   2.93   2.840781  35456300 -0.020067  9.0\n",
              "..          ...   ...   ...   ...    ...        ...       ...       ...  ...\n",
              "247  2021-07-15  3.48  3.49  3.37   3.40   3.400000  19507300 -0.020173  9.0\n",
              "248  2021-07-16  3.44  3.45  3.37   3.39   3.390000  37988700 -0.002941  9.0\n",
              "249  2021-07-19  3.28  3.31  3.17   3.21   3.210000  35854300 -0.053097  9.0\n",
              "250  2021-07-20  3.17  3.24  3.16   3.20   3.200000  27402200 -0.003115  9.0\n",
              "251  2021-07-21  3.23  3.28  3.19   3.26   3.260000  25459600  0.018750  9.0\n",
              "\n",
              "[252 rows x 9 columns]"
            ]
          },
          "metadata": {
            "tags": []
          },
          "execution_count": 105
        }
      ]
    },
    {
      "cell_type": "code",
      "metadata": {
        "id": "NciM3EDeLcz7"
      },
      "source": [
        ""
      ],
      "execution_count": null,
      "outputs": []
    }
  ]
}