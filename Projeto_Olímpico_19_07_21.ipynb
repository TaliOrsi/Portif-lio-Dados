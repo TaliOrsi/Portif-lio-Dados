{
  "nbformat": 4,
  "nbformat_minor": 0,
  "metadata": {
    "colab": {
      "name": "Projeto Olímpico 19/07/21",
      "provenance": [],
      "mount_file_id": "1zGZGihn-isnC3sc7RvFXRLSHcJgpNLfI",
      "authorship_tag": "ABX9TyNVF0+hJpyfCofGmgDYMR5D",
      "include_colab_link": true
    },
    "kernelspec": {
      "name": "python3",
      "display_name": "Python 3"
    },
    "language_info": {
      "name": "python"
    }
  },
  "cells": [
    {
      "cell_type": "markdown",
      "metadata": {
        "id": "view-in-github",
        "colab_type": "text"
      },
      "source": [
        "<a href=\"https://colab.research.google.com/github/TaliOrsi/Portif-lio-Dados/blob/main/Projeto_Ol%C3%ADmpico_19_07_21.ipynb\" target=\"_parent\"><img src=\"https://colab.research.google.com/assets/colab-badge.svg\" alt=\"Open In Colab\"/></a>"
      ]
    },
    {
      "cell_type": "code",
      "metadata": {
        "id": "hmdo1NU0jqKw"
      },
      "source": [
        ""
      ],
      "execution_count": null,
      "outputs": []
    },
    {
      "cell_type": "markdown",
      "metadata": {
        "id": "EzQTZgLlkvKv"
      },
      "source": [
        "Etapa 1 - Vamos analisar 120 anos de dados históricos dos Jogos Olímpicos, começando nos jogos de Atenas indo até o Rio de Janeiro em 2016, utilizando Ciência de Dados."
      ]
    },
    {
      "cell_type": "code",
      "metadata": {
        "id": "kikXpR4LlGJw"
      },
      "source": [
        ""
      ],
      "execution_count": null,
      "outputs": []
    },
    {
      "cell_type": "markdown",
      "metadata": {
        "id": "ppNG_gPElHSq"
      },
      "source": [
        "Etapa 2 - Coleta de dados \n",
        "https://www.kaggle.com/heesoo37/120-years-of-olympic-history-athletes-and-results?select=noc_regions.csv\n"
      ]
    },
    {
      "cell_type": "code",
      "metadata": {
        "id": "8-_3qdrPlVEE"
      },
      "source": [
        ""
      ],
      "execution_count": null,
      "outputs": []
    },
    {
      "cell_type": "markdown",
      "metadata": {
        "id": "QtJ-Se_PlV4L"
      },
      "source": [
        "Etapa 3 - Análise, interpretação e visualização dos Dados\n",
        "*importando as bibliotecas"
      ]
    },
    {
      "cell_type": "code",
      "metadata": {
        "id": "cJw5OmHzllaz"
      },
      "source": [
        "#manipulação de dados\n",
        "import pandas as pd\n",
        "\n",
        "#visualização\n",
        "import missingno \n",
        "import seaborn as sns\n",
        "import matplotlib.pyplot as plt\n",
        "\n",
        "\n",
        "#machine learning"
      ],
      "execution_count": null,
      "outputs": []
    },
    {
      "cell_type": "code",
      "metadata": {
        "id": "TG1jsEIrloGD"
      },
      "source": [
        "df_atleta = pd.read_csv(\"athlete_events.csv\")"
      ],
      "execution_count": null,
      "outputs": []
    },
    {
      "cell_type": "code",
      "metadata": {
        "colab": {
          "base_uri": "https://localhost:8080/",
          "height": 445
        },
        "id": "Sh1Dg35Znz99",
        "outputId": "7229986c-4550-4a47-e491-e72691ef0f9a"
      },
      "source": [
        "df_atleta.head(5)"
      ],
      "execution_count": null,
      "outputs": [
        {
          "output_type": "execute_result",
          "data": {
            "text/html": [
              "<div>\n",
              "<style scoped>\n",
              "    .dataframe tbody tr th:only-of-type {\n",
              "        vertical-align: middle;\n",
              "    }\n",
              "\n",
              "    .dataframe tbody tr th {\n",
              "        vertical-align: top;\n",
              "    }\n",
              "\n",
              "    .dataframe thead th {\n",
              "        text-align: right;\n",
              "    }\n",
              "</style>\n",
              "<table border=\"1\" class=\"dataframe\">\n",
              "  <thead>\n",
              "    <tr style=\"text-align: right;\">\n",
              "      <th></th>\n",
              "      <th>ID</th>\n",
              "      <th>Name</th>\n",
              "      <th>Sex</th>\n",
              "      <th>Age</th>\n",
              "      <th>Height</th>\n",
              "      <th>Weight</th>\n",
              "      <th>Team</th>\n",
              "      <th>NOC</th>\n",
              "      <th>Games</th>\n",
              "      <th>Year</th>\n",
              "      <th>Season</th>\n",
              "      <th>City</th>\n",
              "      <th>Sport</th>\n",
              "      <th>Event</th>\n",
              "      <th>Medal</th>\n",
              "    </tr>\n",
              "  </thead>\n",
              "  <tbody>\n",
              "    <tr>\n",
              "      <th>0</th>\n",
              "      <td>1</td>\n",
              "      <td>A Dijiang</td>\n",
              "      <td>M</td>\n",
              "      <td>24.0</td>\n",
              "      <td>180.0</td>\n",
              "      <td>80.0</td>\n",
              "      <td>China</td>\n",
              "      <td>CHN</td>\n",
              "      <td>1992 Summer</td>\n",
              "      <td>1992</td>\n",
              "      <td>Summer</td>\n",
              "      <td>Barcelona</td>\n",
              "      <td>Basketball</td>\n",
              "      <td>Basketball Men's Basketball</td>\n",
              "      <td>NaN</td>\n",
              "    </tr>\n",
              "    <tr>\n",
              "      <th>1</th>\n",
              "      <td>2</td>\n",
              "      <td>A Lamusi</td>\n",
              "      <td>M</td>\n",
              "      <td>23.0</td>\n",
              "      <td>170.0</td>\n",
              "      <td>60.0</td>\n",
              "      <td>China</td>\n",
              "      <td>CHN</td>\n",
              "      <td>2012 Summer</td>\n",
              "      <td>2012</td>\n",
              "      <td>Summer</td>\n",
              "      <td>London</td>\n",
              "      <td>Judo</td>\n",
              "      <td>Judo Men's Extra-Lightweight</td>\n",
              "      <td>NaN</td>\n",
              "    </tr>\n",
              "    <tr>\n",
              "      <th>2</th>\n",
              "      <td>3</td>\n",
              "      <td>Gunnar Nielsen Aaby</td>\n",
              "      <td>M</td>\n",
              "      <td>24.0</td>\n",
              "      <td>NaN</td>\n",
              "      <td>NaN</td>\n",
              "      <td>Denmark</td>\n",
              "      <td>DEN</td>\n",
              "      <td>1920 Summer</td>\n",
              "      <td>1920</td>\n",
              "      <td>Summer</td>\n",
              "      <td>Antwerpen</td>\n",
              "      <td>Football</td>\n",
              "      <td>Football Men's Football</td>\n",
              "      <td>NaN</td>\n",
              "    </tr>\n",
              "    <tr>\n",
              "      <th>3</th>\n",
              "      <td>4</td>\n",
              "      <td>Edgar Lindenau Aabye</td>\n",
              "      <td>M</td>\n",
              "      <td>34.0</td>\n",
              "      <td>NaN</td>\n",
              "      <td>NaN</td>\n",
              "      <td>Denmark/Sweden</td>\n",
              "      <td>DEN</td>\n",
              "      <td>1900 Summer</td>\n",
              "      <td>1900</td>\n",
              "      <td>Summer</td>\n",
              "      <td>Paris</td>\n",
              "      <td>Tug-Of-War</td>\n",
              "      <td>Tug-Of-War Men's Tug-Of-War</td>\n",
              "      <td>Gold</td>\n",
              "    </tr>\n",
              "    <tr>\n",
              "      <th>4</th>\n",
              "      <td>5</td>\n",
              "      <td>Christine Jacoba Aaftink</td>\n",
              "      <td>F</td>\n",
              "      <td>21.0</td>\n",
              "      <td>185.0</td>\n",
              "      <td>82.0</td>\n",
              "      <td>Netherlands</td>\n",
              "      <td>NED</td>\n",
              "      <td>1988 Winter</td>\n",
              "      <td>1988</td>\n",
              "      <td>Winter</td>\n",
              "      <td>Calgary</td>\n",
              "      <td>Speed Skating</td>\n",
              "      <td>Speed Skating Women's 500 metres</td>\n",
              "      <td>NaN</td>\n",
              "    </tr>\n",
              "  </tbody>\n",
              "</table>\n",
              "</div>"
            ],
            "text/plain": [
              "   ID                      Name  ...                             Event  Medal\n",
              "0   1                 A Dijiang  ...       Basketball Men's Basketball    NaN\n",
              "1   2                  A Lamusi  ...      Judo Men's Extra-Lightweight    NaN\n",
              "2   3       Gunnar Nielsen Aaby  ...           Football Men's Football    NaN\n",
              "3   4      Edgar Lindenau Aabye  ...       Tug-Of-War Men's Tug-Of-War   Gold\n",
              "4   5  Christine Jacoba Aaftink  ...  Speed Skating Women's 500 metres    NaN\n",
              "\n",
              "[5 rows x 15 columns]"
            ]
          },
          "metadata": {
            "tags": []
          },
          "execution_count": 3
        }
      ]
    },
    {
      "cell_type": "code",
      "metadata": {
        "colab": {
          "base_uri": "https://localhost:8080/",
          "height": 179
        },
        "id": "9oNqj_m1oGEL",
        "outputId": "0498b9d6-7a9c-4488-e5d5-6aaf40c40c92"
      },
      "source": [
        "df_atleta.tail(2)"
      ],
      "execution_count": null,
      "outputs": [
        {
          "output_type": "execute_result",
          "data": {
            "text/html": [
              "<div>\n",
              "<style scoped>\n",
              "    .dataframe tbody tr th:only-of-type {\n",
              "        vertical-align: middle;\n",
              "    }\n",
              "\n",
              "    .dataframe tbody tr th {\n",
              "        vertical-align: top;\n",
              "    }\n",
              "\n",
              "    .dataframe thead th {\n",
              "        text-align: right;\n",
              "    }\n",
              "</style>\n",
              "<table border=\"1\" class=\"dataframe\">\n",
              "  <thead>\n",
              "    <tr style=\"text-align: right;\">\n",
              "      <th></th>\n",
              "      <th>ID</th>\n",
              "      <th>Name</th>\n",
              "      <th>Sex</th>\n",
              "      <th>Age</th>\n",
              "      <th>Height</th>\n",
              "      <th>Weight</th>\n",
              "      <th>Team</th>\n",
              "      <th>NOC</th>\n",
              "      <th>Games</th>\n",
              "      <th>Year</th>\n",
              "      <th>Season</th>\n",
              "      <th>City</th>\n",
              "      <th>Sport</th>\n",
              "      <th>Event</th>\n",
              "      <th>Medal</th>\n",
              "    </tr>\n",
              "  </thead>\n",
              "  <tbody>\n",
              "    <tr>\n",
              "      <th>271114</th>\n",
              "      <td>135571</td>\n",
              "      <td>Tomasz Ireneusz ya</td>\n",
              "      <td>M</td>\n",
              "      <td>30.0</td>\n",
              "      <td>185.0</td>\n",
              "      <td>96.0</td>\n",
              "      <td>Poland</td>\n",
              "      <td>POL</td>\n",
              "      <td>1998 Winter</td>\n",
              "      <td>1998</td>\n",
              "      <td>Winter</td>\n",
              "      <td>Nagano</td>\n",
              "      <td>Bobsleigh</td>\n",
              "      <td>Bobsleigh Men's Four</td>\n",
              "      <td>NaN</td>\n",
              "    </tr>\n",
              "    <tr>\n",
              "      <th>271115</th>\n",
              "      <td>135571</td>\n",
              "      <td>Tomasz Ireneusz ya</td>\n",
              "      <td>M</td>\n",
              "      <td>34.0</td>\n",
              "      <td>185.0</td>\n",
              "      <td>96.0</td>\n",
              "      <td>Poland</td>\n",
              "      <td>POL</td>\n",
              "      <td>2002 Winter</td>\n",
              "      <td>2002</td>\n",
              "      <td>Winter</td>\n",
              "      <td>Salt Lake City</td>\n",
              "      <td>Bobsleigh</td>\n",
              "      <td>Bobsleigh Men's Four</td>\n",
              "      <td>NaN</td>\n",
              "    </tr>\n",
              "  </tbody>\n",
              "</table>\n",
              "</div>"
            ],
            "text/plain": [
              "            ID                Name Sex  ...      Sport                 Event  Medal\n",
              "271114  135571  Tomasz Ireneusz ya   M  ...  Bobsleigh  Bobsleigh Men's Four    NaN\n",
              "271115  135571  Tomasz Ireneusz ya   M  ...  Bobsleigh  Bobsleigh Men's Four    NaN\n",
              "\n",
              "[2 rows x 15 columns]"
            ]
          },
          "metadata": {
            "tags": []
          },
          "execution_count": 4
        }
      ]
    },
    {
      "cell_type": "code",
      "metadata": {
        "colab": {
          "base_uri": "https://localhost:8080/"
        },
        "id": "orf2uzjOomdM",
        "outputId": "ebce1ca2-b482-44ae-c709-cbf7e484f535"
      },
      "source": [
        "df_atleta.columns"
      ],
      "execution_count": null,
      "outputs": [
        {
          "output_type": "execute_result",
          "data": {
            "text/plain": [
              "Index(['ID', 'Name', 'Sex', 'Age', 'Height', 'Weight', 'Team', 'NOC', 'Games',\n",
              "       'Year', 'Season', 'City', 'Sport', 'Event', 'Medal'],\n",
              "      dtype='object')"
            ]
          },
          "metadata": {
            "tags": []
          },
          "execution_count": 5
        }
      ]
    },
    {
      "cell_type": "code",
      "metadata": {
        "colab": {
          "base_uri": "https://localhost:8080/"
        },
        "id": "kWTiBk3QpAQP",
        "outputId": "fa6b6117-bc2b-445c-a6f8-4ed2bff3e193"
      },
      "source": [
        "df_atleta.info()"
      ],
      "execution_count": null,
      "outputs": [
        {
          "output_type": "stream",
          "text": [
            "<class 'pandas.core.frame.DataFrame'>\n",
            "RangeIndex: 271116 entries, 0 to 271115\n",
            "Data columns (total 15 columns):\n",
            " #   Column  Non-Null Count   Dtype  \n",
            "---  ------  --------------   -----  \n",
            " 0   ID      271116 non-null  int64  \n",
            " 1   Name    271116 non-null  object \n",
            " 2   Sex     271116 non-null  object \n",
            " 3   Age     261642 non-null  float64\n",
            " 4   Height  210945 non-null  float64\n",
            " 5   Weight  208241 non-null  float64\n",
            " 6   Team    271116 non-null  object \n",
            " 7   NOC     271116 non-null  object \n",
            " 8   Games   271116 non-null  object \n",
            " 9   Year    271116 non-null  int64  \n",
            " 10  Season  271116 non-null  object \n",
            " 11  City    271116 non-null  object \n",
            " 12  Sport   271116 non-null  object \n",
            " 13  Event   271116 non-null  object \n",
            " 14  Medal   39783 non-null   object \n",
            "dtypes: float64(3), int64(2), object(10)\n",
            "memory usage: 31.0+ MB\n"
          ],
          "name": "stdout"
        }
      ]
    },
    {
      "cell_type": "code",
      "metadata": {
        "id": "f_vTos--pgOq"
      },
      "source": [
        ""
      ],
      "execution_count": null,
      "outputs": []
    },
    {
      "cell_type": "markdown",
      "metadata": {
        "id": "COD_ZnmksJnj"
      },
      "source": [
        "Dicionário de dados\n",
        "\n",
        "ID - Número único para cada atleta\n",
        "Nome - nome do atleta\n",
        "Sexo - M ou F\n",
        "Idade - Inteiro\n",
        "Altura - em centímetros\n",
        "Peso - em quilogramas\n",
        "Equipe - nome da equipe\n",
        "NOC - Código de 3 letras do Comitê Olímpico Nacional\n",
        "Jogos - ano e temporada\n",
        "Ano - Inteiro\n",
        "Temporada - verão ou inverno\n",
        "Cidade - Cidade -sede\n",
        "Esporte - Esporte\n",
        "Evento - Evento\n",
        "Medalha - Ouro, Prata, Bronze ou NA"
      ]
    },
    {
      "cell_type": "code",
      "metadata": {
        "colab": {
          "base_uri": "https://localhost:8080/"
        },
        "id": "VP6qfiDFsPrd",
        "outputId": "bc30ddc2-7d6f-4e7d-8a04-b1ec9c1fe008"
      },
      "source": [
        "df_atleta.columns"
      ],
      "execution_count": null,
      "outputs": [
        {
          "output_type": "execute_result",
          "data": {
            "text/plain": [
              "Index(['ID', 'Name', 'Sex', 'Age', 'Height', 'Weight', 'Team', 'NOC', 'Games',\n",
              "       'Year', 'Season', 'City', 'Sport', 'Event', 'Medal'],\n",
              "      dtype='object')"
            ]
          },
          "metadata": {
            "tags": []
          },
          "execution_count": 7
        }
      ]
    },
    {
      "cell_type": "code",
      "metadata": {
        "id": "Ooajq-ANsY09"
      },
      "source": [
        "df_atleta.rename(columns= {\"ID\": \"id_atleta\" , \"Name\": \"nome_atleta\" , \"Sex\" : \"sexo_atleta\", \"Age\": \"idade\" , \"Height\":\"altura_atleta\" , \"Weight\" : \"peso_atleta\", \n",
        "                           \"Team\": \"equipe\", \"NOC\": \"noc\" , \"Games\": \"ano_temporada\", \"Year\": \"ano\" , \n",
        "                           \"Season\": \"temporada\" , \"City\": \"cidade_sede\" , \"Sport\": \"modalidade_esportiva\" , \"Event\" : \"evento\",\n",
        "                           \"Medal\": \"medalha\"}, inplace=True)"
      ],
      "execution_count": null,
      "outputs": []
    },
    {
      "cell_type": "code",
      "metadata": {
        "id": "LZ3dhy1DtTTy"
      },
      "source": [
        ""
      ],
      "execution_count": null,
      "outputs": []
    },
    {
      "cell_type": "markdown",
      "metadata": {
        "id": "x6bSsSclwVXn"
      },
      "source": [
        "Temporada\n"
      ]
    },
    {
      "cell_type": "code",
      "metadata": {
        "colab": {
          "base_uri": "https://localhost:8080/",
          "height": 445
        },
        "id": "WbHyx9m_wWyA",
        "outputId": "674665a4-9377-4dda-958b-7133705f418d"
      },
      "source": [
        "df_atleta.head()"
      ],
      "execution_count": null,
      "outputs": [
        {
          "output_type": "execute_result",
          "data": {
            "text/html": [
              "<div>\n",
              "<style scoped>\n",
              "    .dataframe tbody tr th:only-of-type {\n",
              "        vertical-align: middle;\n",
              "    }\n",
              "\n",
              "    .dataframe tbody tr th {\n",
              "        vertical-align: top;\n",
              "    }\n",
              "\n",
              "    .dataframe thead th {\n",
              "        text-align: right;\n",
              "    }\n",
              "</style>\n",
              "<table border=\"1\" class=\"dataframe\">\n",
              "  <thead>\n",
              "    <tr style=\"text-align: right;\">\n",
              "      <th></th>\n",
              "      <th>id_atleta</th>\n",
              "      <th>nome_atleta</th>\n",
              "      <th>sexo_atleta</th>\n",
              "      <th>idade</th>\n",
              "      <th>altura_atleta</th>\n",
              "      <th>peso_atleta</th>\n",
              "      <th>equipe</th>\n",
              "      <th>noc</th>\n",
              "      <th>ano_temporada</th>\n",
              "      <th>ano</th>\n",
              "      <th>temporada</th>\n",
              "      <th>cidade_sede</th>\n",
              "      <th>modalidade_esportiva</th>\n",
              "      <th>evento</th>\n",
              "      <th>medalha</th>\n",
              "    </tr>\n",
              "  </thead>\n",
              "  <tbody>\n",
              "    <tr>\n",
              "      <th>0</th>\n",
              "      <td>1</td>\n",
              "      <td>A Dijiang</td>\n",
              "      <td>M</td>\n",
              "      <td>24.0</td>\n",
              "      <td>180.0</td>\n",
              "      <td>80.0</td>\n",
              "      <td>China</td>\n",
              "      <td>CHN</td>\n",
              "      <td>1992 Summer</td>\n",
              "      <td>1992</td>\n",
              "      <td>Summer</td>\n",
              "      <td>Barcelona</td>\n",
              "      <td>Basketball</td>\n",
              "      <td>Basketball Men's Basketball</td>\n",
              "      <td>NaN</td>\n",
              "    </tr>\n",
              "    <tr>\n",
              "      <th>1</th>\n",
              "      <td>2</td>\n",
              "      <td>A Lamusi</td>\n",
              "      <td>M</td>\n",
              "      <td>23.0</td>\n",
              "      <td>170.0</td>\n",
              "      <td>60.0</td>\n",
              "      <td>China</td>\n",
              "      <td>CHN</td>\n",
              "      <td>2012 Summer</td>\n",
              "      <td>2012</td>\n",
              "      <td>Summer</td>\n",
              "      <td>London</td>\n",
              "      <td>Judo</td>\n",
              "      <td>Judo Men's Extra-Lightweight</td>\n",
              "      <td>NaN</td>\n",
              "    </tr>\n",
              "    <tr>\n",
              "      <th>2</th>\n",
              "      <td>3</td>\n",
              "      <td>Gunnar Nielsen Aaby</td>\n",
              "      <td>M</td>\n",
              "      <td>24.0</td>\n",
              "      <td>NaN</td>\n",
              "      <td>NaN</td>\n",
              "      <td>Denmark</td>\n",
              "      <td>DEN</td>\n",
              "      <td>1920 Summer</td>\n",
              "      <td>1920</td>\n",
              "      <td>Summer</td>\n",
              "      <td>Antwerpen</td>\n",
              "      <td>Football</td>\n",
              "      <td>Football Men's Football</td>\n",
              "      <td>NaN</td>\n",
              "    </tr>\n",
              "    <tr>\n",
              "      <th>3</th>\n",
              "      <td>4</td>\n",
              "      <td>Edgar Lindenau Aabye</td>\n",
              "      <td>M</td>\n",
              "      <td>34.0</td>\n",
              "      <td>NaN</td>\n",
              "      <td>NaN</td>\n",
              "      <td>Denmark/Sweden</td>\n",
              "      <td>DEN</td>\n",
              "      <td>1900 Summer</td>\n",
              "      <td>1900</td>\n",
              "      <td>Summer</td>\n",
              "      <td>Paris</td>\n",
              "      <td>Tug-Of-War</td>\n",
              "      <td>Tug-Of-War Men's Tug-Of-War</td>\n",
              "      <td>Gold</td>\n",
              "    </tr>\n",
              "    <tr>\n",
              "      <th>4</th>\n",
              "      <td>5</td>\n",
              "      <td>Christine Jacoba Aaftink</td>\n",
              "      <td>F</td>\n",
              "      <td>21.0</td>\n",
              "      <td>185.0</td>\n",
              "      <td>82.0</td>\n",
              "      <td>Netherlands</td>\n",
              "      <td>NED</td>\n",
              "      <td>1988 Winter</td>\n",
              "      <td>1988</td>\n",
              "      <td>Winter</td>\n",
              "      <td>Calgary</td>\n",
              "      <td>Speed Skating</td>\n",
              "      <td>Speed Skating Women's 500 metres</td>\n",
              "      <td>NaN</td>\n",
              "    </tr>\n",
              "  </tbody>\n",
              "</table>\n",
              "</div>"
            ],
            "text/plain": [
              "   id_atleta  ... medalha\n",
              "0          1  ...     NaN\n",
              "1          2  ...     NaN\n",
              "2          3  ...     NaN\n",
              "3          4  ...    Gold\n",
              "4          5  ...     NaN\n",
              "\n",
              "[5 rows x 15 columns]"
            ]
          },
          "metadata": {
            "tags": []
          },
          "execution_count": 21
        }
      ]
    },
    {
      "cell_type": "code",
      "metadata": {
        "id": "rMCVz-QUwd_J"
      },
      "source": [
        ""
      ],
      "execution_count": null,
      "outputs": []
    },
    {
      "cell_type": "markdown",
      "metadata": {
        "id": "92zSoUwHxh4Z"
      },
      "source": [
        "Temporada\n"
      ]
    },
    {
      "cell_type": "code",
      "metadata": {
        "colab": {
          "base_uri": "https://localhost:8080/"
        },
        "id": "QtkYVUJpxjC_",
        "outputId": "59f54abd-6542-4476-c1c2-76434d028e30"
      },
      "source": [
        "df_atleta[\"temporada\"].nunique()"
      ],
      "execution_count": null,
      "outputs": [
        {
          "output_type": "execute_result",
          "data": {
            "text/plain": [
              "2"
            ]
          },
          "metadata": {
            "tags": []
          },
          "execution_count": 23
        }
      ]
    },
    {
      "cell_type": "code",
      "metadata": {
        "colab": {
          "base_uri": "https://localhost:8080/"
        },
        "id": "r32UY2j-xu2U",
        "outputId": "e1f83dbf-3d64-471b-9d75-07d769f6b48a"
      },
      "source": [
        "df_atleta[\"temporada\"].unique()"
      ],
      "execution_count": null,
      "outputs": [
        {
          "output_type": "execute_result",
          "data": {
            "text/plain": [
              "array(['Summer', 'Winter'], dtype=object)"
            ]
          },
          "metadata": {
            "tags": []
          },
          "execution_count": 24
        }
      ]
    },
    {
      "cell_type": "code",
      "metadata": {
        "id": "gKYqP4Q9yvo9"
      },
      "source": [
        "df_atleta = df_atleta[df_atleta[\"temporada\"] == \"Summer\"]"
      ],
      "execution_count": null,
      "outputs": []
    },
    {
      "cell_type": "code",
      "metadata": {
        "colab": {
          "base_uri": "https://localhost:8080/"
        },
        "id": "TvM9gHgdzLnK",
        "outputId": "14e34466-eef5-42b4-d648-65860489c333"
      },
      "source": [
        "df_atleta[\"temporada\"].unique()"
      ],
      "execution_count": null,
      "outputs": [
        {
          "output_type": "execute_result",
          "data": {
            "text/plain": [
              "array(['Summer'], dtype=object)"
            ]
          },
          "metadata": {
            "tags": []
          },
          "execution_count": 26
        }
      ]
    },
    {
      "cell_type": "code",
      "metadata": {
        "id": "jenHFoJozR6_"
      },
      "source": [
        ""
      ],
      "execution_count": null,
      "outputs": []
    },
    {
      "cell_type": "markdown",
      "metadata": {
        "id": "UI4m5SIBzii6"
      },
      "source": [
        "###Informações Estatísticas"
      ]
    },
    {
      "cell_type": "code",
      "metadata": {
        "colab": {
          "base_uri": "https://localhost:8080/",
          "height": 297
        },
        "id": "aIwityTNzqYN",
        "outputId": "ebb2db85-cd94-41e3-f717-53884f79d538"
      },
      "source": [
        "df_atleta.describe().round(3)"
      ],
      "execution_count": null,
      "outputs": [
        {
          "output_type": "execute_result",
          "data": {
            "text/html": [
              "<div>\n",
              "<style scoped>\n",
              "    .dataframe tbody tr th:only-of-type {\n",
              "        vertical-align: middle;\n",
              "    }\n",
              "\n",
              "    .dataframe tbody tr th {\n",
              "        vertical-align: top;\n",
              "    }\n",
              "\n",
              "    .dataframe thead th {\n",
              "        text-align: right;\n",
              "    }\n",
              "</style>\n",
              "<table border=\"1\" class=\"dataframe\">\n",
              "  <thead>\n",
              "    <tr style=\"text-align: right;\">\n",
              "      <th></th>\n",
              "      <th>id_atleta</th>\n",
              "      <th>idade</th>\n",
              "      <th>altura_atleta</th>\n",
              "      <th>peso_atleta</th>\n",
              "      <th>ano</th>\n",
              "    </tr>\n",
              "  </thead>\n",
              "  <tbody>\n",
              "    <tr>\n",
              "      <th>count</th>\n",
              "      <td>222552.000</td>\n",
              "      <td>213363.000</td>\n",
              "      <td>170695.000</td>\n",
              "      <td>168698.000</td>\n",
              "      <td>222552.000</td>\n",
              "    </tr>\n",
              "    <tr>\n",
              "      <th>mean</th>\n",
              "      <td>67998.926</td>\n",
              "      <td>25.674</td>\n",
              "      <td>175.516</td>\n",
              "      <td>70.689</td>\n",
              "      <td>1976.317</td>\n",
              "    </tr>\n",
              "    <tr>\n",
              "      <th>std</th>\n",
              "      <td>39139.038</td>\n",
              "      <td>6.700</td>\n",
              "      <td>10.915</td>\n",
              "      <td>14.804</td>\n",
              "      <td>30.943</td>\n",
              "    </tr>\n",
              "    <tr>\n",
              "      <th>min</th>\n",
              "      <td>1.000</td>\n",
              "      <td>10.000</td>\n",
              "      <td>127.000</td>\n",
              "      <td>25.000</td>\n",
              "      <td>1896.000</td>\n",
              "    </tr>\n",
              "    <tr>\n",
              "      <th>25%</th>\n",
              "      <td>34000.750</td>\n",
              "      <td>21.000</td>\n",
              "      <td>168.000</td>\n",
              "      <td>60.000</td>\n",
              "      <td>1956.000</td>\n",
              "    </tr>\n",
              "    <tr>\n",
              "      <th>50%</th>\n",
              "      <td>68302.500</td>\n",
              "      <td>24.000</td>\n",
              "      <td>175.000</td>\n",
              "      <td>70.000</td>\n",
              "      <td>1984.000</td>\n",
              "    </tr>\n",
              "    <tr>\n",
              "      <th>75%</th>\n",
              "      <td>101881.000</td>\n",
              "      <td>28.000</td>\n",
              "      <td>183.000</td>\n",
              "      <td>79.000</td>\n",
              "      <td>2000.000</td>\n",
              "    </tr>\n",
              "    <tr>\n",
              "      <th>max</th>\n",
              "      <td>135568.000</td>\n",
              "      <td>97.000</td>\n",
              "      <td>226.000</td>\n",
              "      <td>214.000</td>\n",
              "      <td>2016.000</td>\n",
              "    </tr>\n",
              "  </tbody>\n",
              "</table>\n",
              "</div>"
            ],
            "text/plain": [
              "        id_atleta       idade  altura_atleta  peso_atleta         ano\n",
              "count  222552.000  213363.000     170695.000   168698.000  222552.000\n",
              "mean    67998.926      25.674        175.516       70.689    1976.317\n",
              "std     39139.038       6.700         10.915       14.804      30.943\n",
              "min         1.000      10.000        127.000       25.000    1896.000\n",
              "25%     34000.750      21.000        168.000       60.000    1956.000\n",
              "50%     68302.500      24.000        175.000       70.000    1984.000\n",
              "75%    101881.000      28.000        183.000       79.000    2000.000\n",
              "max    135568.000      97.000        226.000      214.000    2016.000"
            ]
          },
          "metadata": {
            "tags": []
          },
          "execution_count": 33
        }
      ]
    },
    {
      "cell_type": "code",
      "metadata": {
        "id": "-Gk3i9Jv0AxT"
      },
      "source": [
        ""
      ],
      "execution_count": null,
      "outputs": []
    },
    {
      "cell_type": "markdown",
      "metadata": {
        "id": "LvNJvedm1vQ3"
      },
      "source": [
        "###Dados Faltantes"
      ]
    },
    {
      "cell_type": "code",
      "metadata": {
        "colab": {
          "base_uri": "https://localhost:8080/"
        },
        "id": "ZVNZkq6w0QlZ",
        "outputId": "cd398082-1080-4b65-bd8c-4b1646b7e940"
      },
      "source": [
        "df_atleta.isnull().sum()"
      ],
      "execution_count": null,
      "outputs": [
        {
          "output_type": "execute_result",
          "data": {
            "text/plain": [
              "id_atleta                    0\n",
              "nome_atleta                  0\n",
              "sexo_atleta                  0\n",
              "idade                     9189\n",
              "altura_atleta            51857\n",
              "peso_atleta              53854\n",
              "equipe                       0\n",
              "noc                          0\n",
              "ano_temporada                0\n",
              "ano                          0\n",
              "temporada                    0\n",
              "cidade_sede                  0\n",
              "modalidade_esportiva         0\n",
              "evento                       0\n",
              "medalha                 188464\n",
              "dtype: int64"
            ]
          },
          "metadata": {
            "tags": []
          },
          "execution_count": 38
        }
      ]
    },
    {
      "cell_type": "code",
      "metadata": {
        "colab": {
          "base_uri": "https://localhost:8080/"
        },
        "id": "JXrPuqzj2G1i",
        "outputId": "4d145c32-06f4-44ec-a16b-540fb55ae0ce"
      },
      "source": [
        "df_atleta.isnull().sum().sort_values(ascending=False)"
      ],
      "execution_count": null,
      "outputs": [
        {
          "output_type": "execute_result",
          "data": {
            "text/plain": [
              "medalha                 188464\n",
              "peso_atleta              53854\n",
              "altura_atleta            51857\n",
              "idade                     9189\n",
              "evento                       0\n",
              "modalidade_esportiva         0\n",
              "cidade_sede                  0\n",
              "temporada                    0\n",
              "ano                          0\n",
              "ano_temporada                0\n",
              "noc                          0\n",
              "equipe                       0\n",
              "sexo_atleta                  0\n",
              "nome_atleta                  0\n",
              "id_atleta                    0\n",
              "dtype: int64"
            ]
          },
          "metadata": {
            "tags": []
          },
          "execution_count": 39
        }
      ]
    },
    {
      "cell_type": "code",
      "metadata": {
        "colab": {
          "base_uri": "https://localhost:8080/",
          "height": 410
        },
        "id": "ceM0a9mB2s4C",
        "outputId": "15fe03ba-e477-44ad-d6f4-82ec6dac27d6"
      },
      "source": [
        "missingno.matrix(df_atleta, figsize = (30,10))"
      ],
      "execution_count": null,
      "outputs": [
        {
          "output_type": "execute_result",
          "data": {
            "text/plain": [
              "<matplotlib.axes._subplots.AxesSubplot at 0x7fc77b498e10>"
            ]
          },
          "metadata": {
            "tags": []
          },
          "execution_count": 44
        },
        {
          "output_type": "display_data",
          "data": {
            "image/png": "[encoded data removed]",
            "text/plain": [
              "<Figure size 2160x720 with 2 Axes>"
            ]
          },
          "metadata": {
            "tags": [],
            "needs_background": "light"
          }
        }
      ]
    },
    {
      "cell_type": "code",
      "metadata": {
        "id": "_LLn4HFo37TY"
      },
      "source": [
        ""
      ],
      "execution_count": null,
      "outputs": []
    },
    {
      "cell_type": "markdown",
      "metadata": {
        "id": "dQzdL-Dw5bSm"
      },
      "source": [
        "###Duplicatas"
      ]
    },
    {
      "cell_type": "code",
      "metadata": {
        "colab": {
          "base_uri": "https://localhost:8080/",
          "height": 1000
        },
        "id": "qJxVt4mU5esg",
        "outputId": "40a6b8de-b070-465c-e6aa-f55bfd71a857"
      },
      "source": [
        "df_atleta[df_atleta.duplicated()]"
      ],
      "execution_count": null,
      "outputs": [
        {
          "output_type": "execute_result",
          "data": {
            "text/html": [
              "<div>\n",
              "<style scoped>\n",
              "    .dataframe tbody tr th:only-of-type {\n",
              "        vertical-align: middle;\n",
              "    }\n",
              "\n",
              "    .dataframe tbody tr th {\n",
              "        vertical-align: top;\n",
              "    }\n",
              "\n",
              "    .dataframe thead th {\n",
              "        text-align: right;\n",
              "    }\n",
              "</style>\n",
              "<table border=\"1\" class=\"dataframe\">\n",
              "  <thead>\n",
              "    <tr style=\"text-align: right;\">\n",
              "      <th></th>\n",
              "      <th>id_atleta</th>\n",
              "      <th>nome_atleta</th>\n",
              "      <th>sexo_atleta</th>\n",
              "      <th>idade</th>\n",
              "      <th>altura_atleta</th>\n",
              "      <th>peso_atleta</th>\n",
              "      <th>equipe</th>\n",
              "      <th>noc</th>\n",
              "      <th>ano_temporada</th>\n",
              "      <th>ano</th>\n",
              "      <th>temporada</th>\n",
              "      <th>cidade_sede</th>\n",
              "      <th>modalidade_esportiva</th>\n",
              "      <th>evento</th>\n",
              "      <th>medalha</th>\n",
              "    </tr>\n",
              "  </thead>\n",
              "  <tbody>\n",
              "    <tr>\n",
              "      <th>1252</th>\n",
              "      <td>704</td>\n",
              "      <td>Dsir Antoine Acket</td>\n",
              "      <td>M</td>\n",
              "      <td>27.0</td>\n",
              "      <td>NaN</td>\n",
              "      <td>NaN</td>\n",
              "      <td>Belgium</td>\n",
              "      <td>BEL</td>\n",
              "      <td>1932 Summer</td>\n",
              "      <td>1932</td>\n",
              "      <td>Summer</td>\n",
              "      <td>Los Angeles</td>\n",
              "      <td>Art Competitions</td>\n",
              "      <td>Art Competitions Mixed Painting, Unknown Event</td>\n",
              "      <td>NaN</td>\n",
              "    </tr>\n",
              "    <tr>\n",
              "      <th>4282</th>\n",
              "      <td>2449</td>\n",
              "      <td>William Truman Aldrich</td>\n",
              "      <td>M</td>\n",
              "      <td>48.0</td>\n",
              "      <td>NaN</td>\n",
              "      <td>NaN</td>\n",
              "      <td>United States</td>\n",
              "      <td>USA</td>\n",
              "      <td>1928 Summer</td>\n",
              "      <td>1928</td>\n",
              "      <td>Summer</td>\n",
              "      <td>Amsterdam</td>\n",
              "      <td>Art Competitions</td>\n",
              "      <td>Art Competitions Mixed Painting, Drawings And ...</td>\n",
              "      <td>NaN</td>\n",
              "    </tr>\n",
              "    <tr>\n",
              "      <th>4283</th>\n",
              "      <td>2449</td>\n",
              "      <td>William Truman Aldrich</td>\n",
              "      <td>M</td>\n",
              "      <td>48.0</td>\n",
              "      <td>NaN</td>\n",
              "      <td>NaN</td>\n",
              "      <td>United States</td>\n",
              "      <td>USA</td>\n",
              "      <td>1928 Summer</td>\n",
              "      <td>1928</td>\n",
              "      <td>Summer</td>\n",
              "      <td>Amsterdam</td>\n",
              "      <td>Art Competitions</td>\n",
              "      <td>Art Competitions Mixed Painting, Drawings And ...</td>\n",
              "      <td>NaN</td>\n",
              "    </tr>\n",
              "    <tr>\n",
              "      <th>4862</th>\n",
              "      <td>2777</td>\n",
              "      <td>Hermann Reinhard Alker</td>\n",
              "      <td>M</td>\n",
              "      <td>43.0</td>\n",
              "      <td>NaN</td>\n",
              "      <td>NaN</td>\n",
              "      <td>Germany</td>\n",
              "      <td>GER</td>\n",
              "      <td>1928 Summer</td>\n",
              "      <td>1928</td>\n",
              "      <td>Summer</td>\n",
              "      <td>Amsterdam</td>\n",
              "      <td>Art Competitions</td>\n",
              "      <td>Art Competitions Mixed Architecture, Designs F...</td>\n",
              "      <td>NaN</td>\n",
              "    </tr>\n",
              "    <tr>\n",
              "      <th>4864</th>\n",
              "      <td>2777</td>\n",
              "      <td>Hermann Reinhard Alker</td>\n",
              "      <td>M</td>\n",
              "      <td>43.0</td>\n",
              "      <td>NaN</td>\n",
              "      <td>NaN</td>\n",
              "      <td>Germany</td>\n",
              "      <td>GER</td>\n",
              "      <td>1928 Summer</td>\n",
              "      <td>1928</td>\n",
              "      <td>Summer</td>\n",
              "      <td>Amsterdam</td>\n",
              "      <td>Art Competitions</td>\n",
              "      <td>Art Competitions Mixed Architecture, Architect...</td>\n",
              "      <td>NaN</td>\n",
              "    </tr>\n",
              "    <tr>\n",
              "      <th>...</th>\n",
              "      <td>...</td>\n",
              "      <td>...</td>\n",
              "      <td>...</td>\n",
              "      <td>...</td>\n",
              "      <td>...</td>\n",
              "      <td>...</td>\n",
              "      <td>...</td>\n",
              "      <td>...</td>\n",
              "      <td>...</td>\n",
              "      <td>...</td>\n",
              "      <td>...</td>\n",
              "      <td>...</td>\n",
              "      <td>...</td>\n",
              "      <td>...</td>\n",
              "      <td>...</td>\n",
              "    </tr>\n",
              "    <tr>\n",
              "      <th>269994</th>\n",
              "      <td>135072</td>\n",
              "      <td>Anna Katrina Zinkeisen (-Heseltine)</td>\n",
              "      <td>F</td>\n",
              "      <td>46.0</td>\n",
              "      <td>NaN</td>\n",
              "      <td>NaN</td>\n",
              "      <td>Great Britain</td>\n",
              "      <td>GBR</td>\n",
              "      <td>1948 Summer</td>\n",
              "      <td>1948</td>\n",
              "      <td>Summer</td>\n",
              "      <td>London</td>\n",
              "      <td>Art Competitions</td>\n",
              "      <td>Art Competitions Mixed Painting, Paintings</td>\n",
              "      <td>NaN</td>\n",
              "    </tr>\n",
              "    <tr>\n",
              "      <th>269995</th>\n",
              "      <td>135072</td>\n",
              "      <td>Anna Katrina Zinkeisen (-Heseltine)</td>\n",
              "      <td>F</td>\n",
              "      <td>46.0</td>\n",
              "      <td>NaN</td>\n",
              "      <td>NaN</td>\n",
              "      <td>Great Britain</td>\n",
              "      <td>GBR</td>\n",
              "      <td>1948 Summer</td>\n",
              "      <td>1948</td>\n",
              "      <td>Summer</td>\n",
              "      <td>London</td>\n",
              "      <td>Art Competitions</td>\n",
              "      <td>Art Competitions Mixed Painting, Paintings</td>\n",
              "      <td>NaN</td>\n",
              "    </tr>\n",
              "    <tr>\n",
              "      <th>269997</th>\n",
              "      <td>135072</td>\n",
              "      <td>Anna Katrina Zinkeisen (-Heseltine)</td>\n",
              "      <td>F</td>\n",
              "      <td>46.0</td>\n",
              "      <td>NaN</td>\n",
              "      <td>NaN</td>\n",
              "      <td>Great Britain</td>\n",
              "      <td>GBR</td>\n",
              "      <td>1948 Summer</td>\n",
              "      <td>1948</td>\n",
              "      <td>Summer</td>\n",
              "      <td>London</td>\n",
              "      <td>Art Competitions</td>\n",
              "      <td>Art Competitions Mixed Painting, Unknown Event</td>\n",
              "      <td>NaN</td>\n",
              "    </tr>\n",
              "    <tr>\n",
              "      <th>269999</th>\n",
              "      <td>135073</td>\n",
              "      <td>Doris Clare Zinkeisen (-Johnstone)</td>\n",
              "      <td>F</td>\n",
              "      <td>49.0</td>\n",
              "      <td>NaN</td>\n",
              "      <td>NaN</td>\n",
              "      <td>Great Britain</td>\n",
              "      <td>GBR</td>\n",
              "      <td>1948 Summer</td>\n",
              "      <td>1948</td>\n",
              "      <td>Summer</td>\n",
              "      <td>London</td>\n",
              "      <td>Art Competitions</td>\n",
              "      <td>Art Competitions Mixed Painting, Unknown Event</td>\n",
              "      <td>NaN</td>\n",
              "    </tr>\n",
              "    <tr>\n",
              "      <th>270200</th>\n",
              "      <td>135173</td>\n",
              "      <td>Henri Achille Zo</td>\n",
              "      <td>M</td>\n",
              "      <td>58.0</td>\n",
              "      <td>NaN</td>\n",
              "      <td>NaN</td>\n",
              "      <td>France</td>\n",
              "      <td>FRA</td>\n",
              "      <td>1932 Summer</td>\n",
              "      <td>1932</td>\n",
              "      <td>Summer</td>\n",
              "      <td>Los Angeles</td>\n",
              "      <td>Art Competitions</td>\n",
              "      <td>Art Competitions Mixed Painting, Unknown Event</td>\n",
              "      <td>NaN</td>\n",
              "    </tr>\n",
              "  </tbody>\n",
              "</table>\n",
              "<p>1385 rows × 15 columns</p>\n",
              "</div>"
            ],
            "text/plain": [
              "        id_atleta  ... medalha\n",
              "1252          704  ...     NaN\n",
              "4282         2449  ...     NaN\n",
              "4283         2449  ...     NaN\n",
              "4862         2777  ...     NaN\n",
              "4864         2777  ...     NaN\n",
              "...           ...  ...     ...\n",
              "269994     135072  ...     NaN\n",
              "269995     135072  ...     NaN\n",
              "269997     135072  ...     NaN\n",
              "269999     135073  ...     NaN\n",
              "270200     135173  ...     NaN\n",
              "\n",
              "[1385 rows x 15 columns]"
            ]
          },
          "metadata": {
            "tags": []
          },
          "execution_count": 45
        }
      ]
    },
    {
      "cell_type": "code",
      "metadata": {
        "colab": {
          "base_uri": "https://localhost:8080/"
        },
        "id": "AfAJle27530R",
        "outputId": "f2e12a34-78a4-4767-b78b-09b7a7ac95ac"
      },
      "source": [
        "df_atleta.shape"
      ],
      "execution_count": null,
      "outputs": [
        {
          "output_type": "execute_result",
          "data": {
            "text/plain": [
              "(222552, 15)"
            ]
          },
          "metadata": {
            "tags": []
          },
          "execution_count": 46
        }
      ]
    },
    {
      "cell_type": "code",
      "metadata": {
        "id": "HtdSkaMN6Trx"
      },
      "source": [
        "df_atleta.drop_duplicates(inplace=True)"
      ],
      "execution_count": null,
      "outputs": []
    },
    {
      "cell_type": "code",
      "metadata": {
        "colab": {
          "base_uri": "https://localhost:8080/",
          "height": 69
        },
        "id": "e6T9qRq26laD",
        "outputId": "32abca44-ebde-45ca-fd07-3842e06a72cc"
      },
      "source": [
        "df_atleta[df_atleta.duplicated()]"
      ],
      "execution_count": null,
      "outputs": [
        {
          "output_type": "execute_result",
          "data": {
            "text/html": [
              "<div>\n",
              "<style scoped>\n",
              "    .dataframe tbody tr th:only-of-type {\n",
              "        vertical-align: middle;\n",
              "    }\n",
              "\n",
              "    .dataframe tbody tr th {\n",
              "        vertical-align: top;\n",
              "    }\n",
              "\n",
              "    .dataframe thead th {\n",
              "        text-align: right;\n",
              "    }\n",
              "</style>\n",
              "<table border=\"1\" class=\"dataframe\">\n",
              "  <thead>\n",
              "    <tr style=\"text-align: right;\">\n",
              "      <th></th>\n",
              "      <th>id_atleta</th>\n",
              "      <th>nome_atleta</th>\n",
              "      <th>sexo_atleta</th>\n",
              "      <th>idade</th>\n",
              "      <th>altura_atleta</th>\n",
              "      <th>peso_atleta</th>\n",
              "      <th>equipe</th>\n",
              "      <th>noc</th>\n",
              "      <th>ano_temporada</th>\n",
              "      <th>ano</th>\n",
              "      <th>temporada</th>\n",
              "      <th>cidade_sede</th>\n",
              "      <th>modalidade_esportiva</th>\n",
              "      <th>evento</th>\n",
              "      <th>medalha</th>\n",
              "    </tr>\n",
              "  </thead>\n",
              "  <tbody>\n",
              "  </tbody>\n",
              "</table>\n",
              "</div>"
            ],
            "text/plain": [
              "Empty DataFrame\n",
              "Columns: [id_atleta, nome_atleta, sexo_atleta, idade, altura_atleta, peso_atleta, equipe, noc, ano_temporada, ano, temporada, cidade_sede, modalidade_esportiva, evento, medalha]\n",
              "Index: []"
            ]
          },
          "metadata": {
            "tags": []
          },
          "execution_count": 48
        }
      ]
    },
    {
      "cell_type": "code",
      "metadata": {
        "colab": {
          "base_uri": "https://localhost:8080/"
        },
        "id": "8R60ZlSa62j8",
        "outputId": "45b2d770-f8a4-41cb-a289-a63da29bc4f8"
      },
      "source": [
        "df_atleta.shape"
      ],
      "execution_count": null,
      "outputs": [
        {
          "output_type": "execute_result",
          "data": {
            "text/plain": [
              "(221167, 15)"
            ]
          },
          "metadata": {
            "tags": []
          },
          "execution_count": 49
        }
      ]
    },
    {
      "cell_type": "code",
      "metadata": {
        "id": "RzYZrejN657d"
      },
      "source": [
        ""
      ],
      "execution_count": null,
      "outputs": []
    },
    {
      "cell_type": "markdown",
      "metadata": {
        "id": "f2xgQPMW7AXk"
      },
      "source": [
        "###Avaliando as Features(Colunas)"
      ]
    },
    {
      "cell_type": "code",
      "metadata": {
        "colab": {
          "base_uri": "https://localhost:8080/",
          "height": 216
        },
        "id": "kpDpwK2L7GYw",
        "outputId": "4f8ee2b4-1191-40e0-ddd1-26a05bd1042d"
      },
      "source": [
        "df_atleta.head(2)"
      ],
      "execution_count": null,
      "outputs": [
        {
          "output_type": "execute_result",
          "data": {
            "text/html": [
              "<div>\n",
              "<style scoped>\n",
              "    .dataframe tbody tr th:only-of-type {\n",
              "        vertical-align: middle;\n",
              "    }\n",
              "\n",
              "    .dataframe tbody tr th {\n",
              "        vertical-align: top;\n",
              "    }\n",
              "\n",
              "    .dataframe thead th {\n",
              "        text-align: right;\n",
              "    }\n",
              "</style>\n",
              "<table border=\"1\" class=\"dataframe\">\n",
              "  <thead>\n",
              "    <tr style=\"text-align: right;\">\n",
              "      <th></th>\n",
              "      <th>id_atleta</th>\n",
              "      <th>nome_atleta</th>\n",
              "      <th>sexo_atleta</th>\n",
              "      <th>idade</th>\n",
              "      <th>altura_atleta</th>\n",
              "      <th>peso_atleta</th>\n",
              "      <th>equipe</th>\n",
              "      <th>noc</th>\n",
              "      <th>ano_temporada</th>\n",
              "      <th>ano</th>\n",
              "      <th>temporada</th>\n",
              "      <th>cidade_sede</th>\n",
              "      <th>modalidade_esportiva</th>\n",
              "      <th>evento</th>\n",
              "      <th>medalha</th>\n",
              "    </tr>\n",
              "  </thead>\n",
              "  <tbody>\n",
              "    <tr>\n",
              "      <th>0</th>\n",
              "      <td>1</td>\n",
              "      <td>A Dijiang</td>\n",
              "      <td>M</td>\n",
              "      <td>24.0</td>\n",
              "      <td>180.0</td>\n",
              "      <td>80.0</td>\n",
              "      <td>China</td>\n",
              "      <td>CHN</td>\n",
              "      <td>1992 Summer</td>\n",
              "      <td>1992</td>\n",
              "      <td>Summer</td>\n",
              "      <td>Barcelona</td>\n",
              "      <td>Basketball</td>\n",
              "      <td>Basketball Men's Basketball</td>\n",
              "      <td>NaN</td>\n",
              "    </tr>\n",
              "    <tr>\n",
              "      <th>1</th>\n",
              "      <td>2</td>\n",
              "      <td>A Lamusi</td>\n",
              "      <td>M</td>\n",
              "      <td>23.0</td>\n",
              "      <td>170.0</td>\n",
              "      <td>60.0</td>\n",
              "      <td>China</td>\n",
              "      <td>CHN</td>\n",
              "      <td>2012 Summer</td>\n",
              "      <td>2012</td>\n",
              "      <td>Summer</td>\n",
              "      <td>London</td>\n",
              "      <td>Judo</td>\n",
              "      <td>Judo Men's Extra-Lightweight</td>\n",
              "      <td>NaN</td>\n",
              "    </tr>\n",
              "  </tbody>\n",
              "</table>\n",
              "</div>"
            ],
            "text/plain": [
              "   id_atleta nome_atleta  ...                        evento  medalha\n",
              "0          1   A Dijiang  ...   Basketball Men's Basketball      NaN\n",
              "1          2    A Lamusi  ...  Judo Men's Extra-Lightweight      NaN\n",
              "\n",
              "[2 rows x 15 columns]"
            ]
          },
          "metadata": {
            "tags": []
          },
          "execution_count": 51
        }
      ]
    },
    {
      "cell_type": "code",
      "metadata": {
        "id": "7FNPR2L27T-g"
      },
      "source": [
        ""
      ],
      "execution_count": null,
      "outputs": []
    },
    {
      "cell_type": "markdown",
      "metadata": {
        "id": "BGS3cDka7Y09"
      },
      "source": [
        "id_atleta - Identificação única de cada atleta"
      ]
    },
    {
      "cell_type": "code",
      "metadata": {
        "colab": {
          "base_uri": "https://localhost:8080/"
        },
        "id": "4pSkum1R7ftt",
        "outputId": "3abfa820-88b6-4d94-a0f8-548589528cad"
      },
      "source": [
        "df_atleta[\"nome_atleta\"].nunique()"
      ],
      "execution_count": null,
      "outputs": [
        {
          "output_type": "execute_result",
          "data": {
            "text/plain": [
              "116122"
            ]
          },
          "metadata": {
            "tags": []
          },
          "execution_count": 52
        }
      ]
    },
    {
      "cell_type": "code",
      "metadata": {
        "id": "qGgUUrXp7qJz"
      },
      "source": [
        ""
      ],
      "execution_count": null,
      "outputs": []
    },
    {
      "cell_type": "markdown",
      "metadata": {
        "id": "zockMgus79by"
      },
      "source": [
        "###sexo_atleta"
      ]
    },
    {
      "cell_type": "code",
      "metadata": {
        "colab": {
          "base_uri": "https://localhost:8080/"
        },
        "id": "lhGhyGIH8CcC",
        "outputId": "fd9dea0a-361d-401b-f8d6-98bd8a4d1132"
      },
      "source": [
        "df_atleta[\"sexo_atleta\"].unique()"
      ],
      "execution_count": null,
      "outputs": [
        {
          "output_type": "execute_result",
          "data": {
            "text/plain": [
              "array(['M', 'F'], dtype=object)"
            ]
          },
          "metadata": {
            "tags": []
          },
          "execution_count": 53
        }
      ]
    },
    {
      "cell_type": "code",
      "metadata": {
        "colab": {
          "base_uri": "https://localhost:8080/",
          "height": 606
        },
        "id": "YZPgP_BZ8QdS",
        "outputId": "30d35965-6152-4e6b-de8d-3895ad2406cf"
      },
      "source": [
        "plt.figure(figsize=(12,10))\n",
        "sns.countplot(x= \"sexo_atleta\", data= df_atleta)\n",
        "plt.show()"
      ],
      "execution_count": null,
      "outputs": [
        {
          "output_type": "display_data",
          "data": {
            "image/png": "[encoded data removed]",
            "text/plain": [
              "<Figure size 864x720 with 1 Axes>"
            ]
          },
          "metadata": {
            "tags": [],
            "needs_background": "light"
          }
        }
      ]
    },
    {
      "cell_type": "code",
      "metadata": {
        "colab": {
          "base_uri": "https://localhost:8080/"
        },
        "id": "_rpPOUll9Gex",
        "outputId": "16dc5cf5-bcfb-416f-e407-6bf0701628f2"
      },
      "source": [
        "df_atleta[\"sexo_atleta\"].value_counts()"
      ],
      "execution_count": null,
      "outputs": [
        {
          "output_type": "execute_result",
          "data": {
            "text/plain": [
              "M    161868\n",
              "F     59299\n",
              "Name: sexo_atleta, dtype: int64"
            ]
          },
          "metadata": {
            "tags": []
          },
          "execution_count": 70
        }
      ]
    },
    {
      "cell_type": "code",
      "metadata": {
        "id": "lslnkGUc-ghg"
      },
      "source": [
        ""
      ],
      "execution_count": null,
      "outputs": []
    },
    {
      "cell_type": "markdown",
      "metadata": {
        "id": "s10OC1V8_w4f"
      },
      "source": [
        "###Idade_atleta - Idade do atleta"
      ]
    },
    {
      "cell_type": "code",
      "metadata": {
        "colab": {
          "base_uri": "https://localhost:8080/"
        },
        "id": "hd3HQ9tU_2Bt",
        "outputId": "6db83e72-d4a1-412b-bb57-e1ef1bc6c04e"
      },
      "source": [
        "df_atleta[\"idade\"].nunique()"
      ],
      "execution_count": null,
      "outputs": [
        {
          "output_type": "execute_result",
          "data": {
            "text/plain": [
              "74"
            ]
          },
          "metadata": {
            "tags": []
          },
          "execution_count": 71
        }
      ]
    },
    {
      "cell_type": "code",
      "metadata": {
        "colab": {
          "base_uri": "https://localhost:8080/",
          "height": 297
        },
        "id": "x7FfRLiS_9P9",
        "outputId": "1f568bb8-afb2-4bfb-d4bb-99d9f7b28246"
      },
      "source": [
        "df_atleta.describe()"
      ],
      "execution_count": null,
      "outputs": [
        {
          "output_type": "execute_result",
          "data": {
            "text/html": [
              "<div>\n",
              "<style scoped>\n",
              "    .dataframe tbody tr th:only-of-type {\n",
              "        vertical-align: middle;\n",
              "    }\n",
              "\n",
              "    .dataframe tbody tr th {\n",
              "        vertical-align: top;\n",
              "    }\n",
              "\n",
              "    .dataframe thead th {\n",
              "        text-align: right;\n",
              "    }\n",
              "</style>\n",
              "<table border=\"1\" class=\"dataframe\">\n",
              "  <thead>\n",
              "    <tr style=\"text-align: right;\">\n",
              "      <th></th>\n",
              "      <th>id_atleta</th>\n",
              "      <th>idade</th>\n",
              "      <th>altura_atleta</th>\n",
              "      <th>peso_atleta</th>\n",
              "      <th>ano</th>\n",
              "    </tr>\n",
              "  </thead>\n",
              "  <tbody>\n",
              "    <tr>\n",
              "      <th>count</th>\n",
              "      <td>221167.000000</td>\n",
              "      <td>212137.000000</td>\n",
              "      <td>170667.000000</td>\n",
              "      <td>168661.000000</td>\n",
              "      <td>221167.000000</td>\n",
              "    </tr>\n",
              "    <tr>\n",
              "      <th>mean</th>\n",
              "      <td>68016.867403</td>\n",
              "      <td>25.549367</td>\n",
              "      <td>175.515560</td>\n",
              "      <td>70.688298</td>\n",
              "      <td>1976.602486</td>\n",
              "    </tr>\n",
              "    <tr>\n",
              "      <th>std</th>\n",
              "      <td>39144.711847</td>\n",
              "      <td>6.434035</td>\n",
              "      <td>10.914843</td>\n",
              "      <td>14.805242</td>\n",
              "      <td>30.820855</td>\n",
              "    </tr>\n",
              "    <tr>\n",
              "      <th>min</th>\n",
              "      <td>1.000000</td>\n",
              "      <td>10.000000</td>\n",
              "      <td>127.000000</td>\n",
              "      <td>25.000000</td>\n",
              "      <td>1896.000000</td>\n",
              "    </tr>\n",
              "    <tr>\n",
              "      <th>25%</th>\n",
              "      <td>34011.500000</td>\n",
              "      <td>21.000000</td>\n",
              "      <td>168.000000</td>\n",
              "      <td>60.000000</td>\n",
              "      <td>1960.000000</td>\n",
              "    </tr>\n",
              "    <tr>\n",
              "      <th>50%</th>\n",
              "      <td>68342.000000</td>\n",
              "      <td>24.000000</td>\n",
              "      <td>175.000000</td>\n",
              "      <td>70.000000</td>\n",
              "      <td>1984.000000</td>\n",
              "    </tr>\n",
              "    <tr>\n",
              "      <th>75%</th>\n",
              "      <td>101904.500000</td>\n",
              "      <td>28.000000</td>\n",
              "      <td>183.000000</td>\n",
              "      <td>79.000000</td>\n",
              "      <td>2000.000000</td>\n",
              "    </tr>\n",
              "    <tr>\n",
              "      <th>max</th>\n",
              "      <td>135568.000000</td>\n",
              "      <td>97.000000</td>\n",
              "      <td>226.000000</td>\n",
              "      <td>214.000000</td>\n",
              "      <td>2016.000000</td>\n",
              "    </tr>\n",
              "  </tbody>\n",
              "</table>\n",
              "</div>"
            ],
            "text/plain": [
              "           id_atleta          idade  ...    peso_atleta            ano\n",
              "count  221167.000000  212137.000000  ...  168661.000000  221167.000000\n",
              "mean    68016.867403      25.549367  ...      70.688298    1976.602486\n",
              "std     39144.711847       6.434035  ...      14.805242      30.820855\n",
              "min         1.000000      10.000000  ...      25.000000    1896.000000\n",
              "25%     34011.500000      21.000000  ...      60.000000    1960.000000\n",
              "50%     68342.000000      24.000000  ...      70.000000    1984.000000\n",
              "75%    101904.500000      28.000000  ...      79.000000    2000.000000\n",
              "max    135568.000000      97.000000  ...     214.000000    2016.000000\n",
              "\n",
              "[8 rows x 5 columns]"
            ]
          },
          "metadata": {
            "tags": []
          },
          "execution_count": 72
        }
      ]
    },
    {
      "cell_type": "code",
      "metadata": {
        "colab": {
          "base_uri": "https://localhost:8080/"
        },
        "id": "cP0mM2zWAC2E",
        "outputId": "746749b0-6aa7-4efe-84c3-daca291ebdf5"
      },
      "source": [
        "df_atleta[\"idade\"].min()"
      ],
      "execution_count": null,
      "outputs": [
        {
          "output_type": "execute_result",
          "data": {
            "text/plain": [
              "10.0"
            ]
          },
          "metadata": {
            "tags": []
          },
          "execution_count": 73
        }
      ]
    },
    {
      "cell_type": "code",
      "metadata": {
        "colab": {
          "base_uri": "https://localhost:8080/"
        },
        "id": "pRTHBsUVARYo",
        "outputId": "52b99283-7e1b-4b6e-fc19-e627d6ea530b"
      },
      "source": [
        "df_atleta[\"idade\"].max()"
      ],
      "execution_count": null,
      "outputs": [
        {
          "output_type": "execute_result",
          "data": {
            "text/plain": [
              "97.0"
            ]
          },
          "metadata": {
            "tags": []
          },
          "execution_count": 74
        }
      ]
    },
    {
      "cell_type": "code",
      "metadata": {
        "colab": {
          "base_uri": "https://localhost:8080/",
          "height": 168
        },
        "id": "tbggEAnYAW9B",
        "outputId": "f09f4da1-e98c-4963-fa6c-de2140fa3acf"
      },
      "source": [
        "df_atleta[df_atleta[\"idade\"] == 97.0]"
      ],
      "execution_count": null,
      "outputs": [
        {
          "output_type": "execute_result",
          "data": {
            "text/html": [
              "<div>\n",
              "<style scoped>\n",
              "    .dataframe tbody tr th:only-of-type {\n",
              "        vertical-align: middle;\n",
              "    }\n",
              "\n",
              "    .dataframe tbody tr th {\n",
              "        vertical-align: top;\n",
              "    }\n",
              "\n",
              "    .dataframe thead th {\n",
              "        text-align: right;\n",
              "    }\n",
              "</style>\n",
              "<table border=\"1\" class=\"dataframe\">\n",
              "  <thead>\n",
              "    <tr style=\"text-align: right;\">\n",
              "      <th></th>\n",
              "      <th>id_atleta</th>\n",
              "      <th>nome_atleta</th>\n",
              "      <th>sexo_atleta</th>\n",
              "      <th>idade</th>\n",
              "      <th>altura_atleta</th>\n",
              "      <th>peso_atleta</th>\n",
              "      <th>equipe</th>\n",
              "      <th>noc</th>\n",
              "      <th>ano_temporada</th>\n",
              "      <th>ano</th>\n",
              "      <th>temporada</th>\n",
              "      <th>cidade_sede</th>\n",
              "      <th>modalidade_esportiva</th>\n",
              "      <th>evento</th>\n",
              "      <th>medalha</th>\n",
              "    </tr>\n",
              "  </thead>\n",
              "  <tbody>\n",
              "    <tr>\n",
              "      <th>257054</th>\n",
              "      <td>128719</td>\n",
              "      <td>John Quincy Adams Ward</td>\n",
              "      <td>M</td>\n",
              "      <td>97.0</td>\n",
              "      <td>NaN</td>\n",
              "      <td>NaN</td>\n",
              "      <td>United States</td>\n",
              "      <td>USA</td>\n",
              "      <td>1928 Summer</td>\n",
              "      <td>1928</td>\n",
              "      <td>Summer</td>\n",
              "      <td>Amsterdam</td>\n",
              "      <td>Art Competitions</td>\n",
              "      <td>Art Competitions Mixed Sculpturing, Statues</td>\n",
              "      <td>NaN</td>\n",
              "    </tr>\n",
              "  </tbody>\n",
              "</table>\n",
              "</div>"
            ],
            "text/plain": [
              "        id_atleta  ... medalha\n",
              "257054     128719  ...     NaN\n",
              "\n",
              "[1 rows x 15 columns]"
            ]
          },
          "metadata": {
            "tags": []
          },
          "execution_count": 79
        }
      ]
    },
    {
      "cell_type": "code",
      "metadata": {
        "colab": {
          "base_uri": "https://localhost:8080/",
          "height": 185
        },
        "id": "uPI42p-qAnoH",
        "outputId": "307c9af6-18e8-4bc7-8b42-e26f49d780c4"
      },
      "source": [
        "df_atleta[df_atleta[\"idade\"] == 96.0]"
      ],
      "execution_count": null,
      "outputs": [
        {
          "output_type": "execute_result",
          "data": {
            "text/html": [
              "<div>\n",
              "<style scoped>\n",
              "    .dataframe tbody tr th:only-of-type {\n",
              "        vertical-align: middle;\n",
              "    }\n",
              "\n",
              "    .dataframe tbody tr th {\n",
              "        vertical-align: top;\n",
              "    }\n",
              "\n",
              "    .dataframe thead th {\n",
              "        text-align: right;\n",
              "    }\n",
              "</style>\n",
              "<table border=\"1\" class=\"dataframe\">\n",
              "  <thead>\n",
              "    <tr style=\"text-align: right;\">\n",
              "      <th></th>\n",
              "      <th>id_atleta</th>\n",
              "      <th>nome_atleta</th>\n",
              "      <th>sexo_atleta</th>\n",
              "      <th>idade</th>\n",
              "      <th>altura_atleta</th>\n",
              "      <th>peso_atleta</th>\n",
              "      <th>equipe</th>\n",
              "      <th>noc</th>\n",
              "      <th>ano_temporada</th>\n",
              "      <th>ano</th>\n",
              "      <th>temporada</th>\n",
              "      <th>cidade_sede</th>\n",
              "      <th>modalidade_esportiva</th>\n",
              "      <th>evento</th>\n",
              "      <th>medalha</th>\n",
              "    </tr>\n",
              "  </thead>\n",
              "  <tbody>\n",
              "    <tr>\n",
              "      <th>98118</th>\n",
              "      <td>49663</td>\n",
              "      <td>Winslow Homer</td>\n",
              "      <td>M</td>\n",
              "      <td>96.0</td>\n",
              "      <td>NaN</td>\n",
              "      <td>NaN</td>\n",
              "      <td>United States</td>\n",
              "      <td>USA</td>\n",
              "      <td>1932 Summer</td>\n",
              "      <td>1932</td>\n",
              "      <td>Summer</td>\n",
              "      <td>Los Angeles</td>\n",
              "      <td>Art Competitions</td>\n",
              "      <td>Art Competitions Mixed Painting, Unknown Event</td>\n",
              "      <td>NaN</td>\n",
              "    </tr>\n",
              "  </tbody>\n",
              "</table>\n",
              "</div>"
            ],
            "text/plain": [
              "       id_atleta  ... medalha\n",
              "98118      49663  ...     NaN\n",
              "\n",
              "[1 rows x 15 columns]"
            ]
          },
          "metadata": {
            "tags": []
          },
          "execution_count": 81
        }
      ]
    },
    {
      "cell_type": "code",
      "metadata": {
        "colab": {
          "base_uri": "https://localhost:8080/",
          "height": 374
        },
        "id": "s0pFtv76BmV0",
        "outputId": "8e4fea09-3acd-487c-8416-f22867e0cd88"
      },
      "source": [
        "plt.figure(figsize=(12,6))\n",
        "df_atleta.boxplot(\"idade\")\n",
        "plt.show()"
      ],
      "execution_count": null,
      "outputs": [
        {
          "output_type": "display_data",
          "data": {
            "image/png": "[encoded data removed]",
            "text/plain": [
              "<Figure size 864x432 with 1 Axes>"
            ]
          },
          "metadata": {
            "tags": [],
            "needs_background": "light"
          }
        }
      ]
    },
    {
      "cell_type": "code",
      "metadata": {
        "colab": {
          "base_uri": "https://localhost:8080/",
          "height": 168
        },
        "id": "Ehw_Jh34CpxC",
        "outputId": "8a152a22-98c5-400a-e3a5-cba0061be38d"
      },
      "source": [
        "df_atleta[df_atleta[\"idade\"] == 10.0]"
      ],
      "execution_count": null,
      "outputs": [
        {
          "output_type": "execute_result",
          "data": {
            "text/html": [
              "<div>\n",
              "<style scoped>\n",
              "    .dataframe tbody tr th:only-of-type {\n",
              "        vertical-align: middle;\n",
              "    }\n",
              "\n",
              "    .dataframe tbody tr th {\n",
              "        vertical-align: top;\n",
              "    }\n",
              "\n",
              "    .dataframe thead th {\n",
              "        text-align: right;\n",
              "    }\n",
              "</style>\n",
              "<table border=\"1\" class=\"dataframe\">\n",
              "  <thead>\n",
              "    <tr style=\"text-align: right;\">\n",
              "      <th></th>\n",
              "      <th>id_atleta</th>\n",
              "      <th>nome_atleta</th>\n",
              "      <th>sexo_atleta</th>\n",
              "      <th>idade</th>\n",
              "      <th>altura_atleta</th>\n",
              "      <th>peso_atleta</th>\n",
              "      <th>equipe</th>\n",
              "      <th>noc</th>\n",
              "      <th>ano_temporada</th>\n",
              "      <th>ano</th>\n",
              "      <th>temporada</th>\n",
              "      <th>cidade_sede</th>\n",
              "      <th>modalidade_esportiva</th>\n",
              "      <th>evento</th>\n",
              "      <th>medalha</th>\n",
              "    </tr>\n",
              "  </thead>\n",
              "  <tbody>\n",
              "    <tr>\n",
              "      <th>142882</th>\n",
              "      <td>71691</td>\n",
              "      <td>Dimitrios Loundras</td>\n",
              "      <td>M</td>\n",
              "      <td>10.0</td>\n",
              "      <td>NaN</td>\n",
              "      <td>NaN</td>\n",
              "      <td>Ethnikos Gymnastikos Syllogos</td>\n",
              "      <td>GRE</td>\n",
              "      <td>1896 Summer</td>\n",
              "      <td>1896</td>\n",
              "      <td>Summer</td>\n",
              "      <td>Athina</td>\n",
              "      <td>Gymnastics</td>\n",
              "      <td>Gymnastics Men's Parallel Bars, Teams</td>\n",
              "      <td>Bronze</td>\n",
              "    </tr>\n",
              "  </tbody>\n",
              "</table>\n",
              "</div>"
            ],
            "text/plain": [
              "        id_atleta  ... medalha\n",
              "142882      71691  ...  Bronze\n",
              "\n",
              "[1 rows x 15 columns]"
            ]
          },
          "metadata": {
            "tags": []
          },
          "execution_count": 84
        }
      ]
    },
    {
      "cell_type": "code",
      "metadata": {
        "colab": {
          "base_uri": "https://localhost:8080/"
        },
        "id": "-5sPOfG7F7E-",
        "outputId": "71745d49-090d-4b99-fc58-6143239cc067"
      },
      "source": [
        "df_atleta[\"idade\"] == 10.0"
      ],
      "execution_count": null,
      "outputs": [
        {
          "output_type": "execute_result",
          "data": {
            "text/plain": [
              "0         False\n",
              "1         False\n",
              "2         False\n",
              "3         False\n",
              "26        False\n",
              "          ...  \n",
              "271106    False\n",
              "271107    False\n",
              "271108    False\n",
              "271109    False\n",
              "271110    False\n",
              "Name: idade, Length: 221167, dtype: bool"
            ]
          },
          "metadata": {
            "tags": []
          },
          "execution_count": 94
        }
      ]
    },
    {
      "cell_type": "code",
      "metadata": {
        "colab": {
          "base_uri": "https://localhost:8080/"
        },
        "id": "golxbxfGC5Rw",
        "outputId": "600db202-a231-43cb-b622-e51bfedac07d"
      },
      "source": [
        "df_atleta[\"idade\"].describe()"
      ],
      "execution_count": null,
      "outputs": [
        {
          "output_type": "execute_result",
          "data": {
            "text/plain": [
              "count    212137.000000\n",
              "mean         25.549367\n",
              "std           6.434035\n",
              "min          10.000000\n",
              "25%          21.000000\n",
              "50%          24.000000\n",
              "75%          28.000000\n",
              "max          97.000000\n",
              "Name: idade, dtype: float64"
            ]
          },
          "metadata": {
            "tags": []
          },
          "execution_count": 85
        }
      ]
    },
    {
      "cell_type": "code",
      "metadata": {
        "colab": {
          "base_uri": "https://localhost:8080/",
          "height": 282
        },
        "id": "T17KMsuSDZ77",
        "outputId": "df12dfb0-efcf-4956-885f-e5946bac4176"
      },
      "source": [
        "df_atleta[\"idade\"].hist()"
      ],
      "execution_count": null,
      "outputs": [
        {
          "output_type": "execute_result",
          "data": {
            "text/plain": [
              "<matplotlib.axes._subplots.AxesSubplot at 0x7fc770d0b6d0>"
            ]
          },
          "metadata": {
            "tags": []
          },
          "execution_count": 86
        },
        {
          "output_type": "display_data",
          "data": {
            "image/png": "[encoded data removed]",
            "text/plain": [
              "<Figure size 432x288 with 1 Axes>"
            ]
          },
          "metadata": {
            "tags": [],
            "needs_background": "light"
          }
        }
      ]
    },
    {
      "cell_type": "code",
      "metadata": {
        "colab": {
          "base_uri": "https://localhost:8080/",
          "height": 467
        },
        "id": "thSm1FH5Dqqz",
        "outputId": "5c283405-7f05-4505-fa8c-14f83e2ab259"
      },
      "source": [
        "plt.figure(figsize=(50,20))\n",
        "plt.tight_layout()\n",
        "sns.countplot(df_atleta[\"idade\"])\n",
        "plt.title(\"Distribuição Idade\")"
      ],
      "execution_count": null,
      "outputs": [
        {
          "output_type": "stream",
          "text": [
            "/usr/local/lib/python3.7/dist-packages/seaborn/_decorators.py:43: FutureWarning: Pass the following variable as a keyword arg: x. From version 0.12, the only valid positional argument will be `data`, and passing other arguments without an explicit keyword will result in an error or misinterpretation.\n",
            "  FutureWarning\n"
          ],
          "name": "stderr"
        },
        {
          "output_type": "execute_result",
          "data": {
            "text/plain": [
              "Text(0.5, 1.0, 'Distribuição Idade')"
            ]
          },
          "metadata": {
            "tags": []
          },
          "execution_count": 88
        },
        {
          "output_type": "display_data",
          "data": {
            "image/png": "[encoded data removed]",
            "text/plain": [
              "<Figure size 3600x1440 with 1 Axes>"
            ]
          },
          "metadata": {
            "tags": [],
            "needs_background": "light"
          }
        }
      ]
    },
    {
      "cell_type": "code",
      "metadata": {
        "colab": {
          "base_uri": "https://localhost:8080/",
          "height": 428
        },
        "id": "rrw6_sp8EZ0p",
        "outputId": "ee62be62-3a8e-4f4a-880e-69e9409177fe"
      },
      "source": [
        "df_atleta.head()"
      ],
      "execution_count": null,
      "outputs": [
        {
          "output_type": "execute_result",
          "data": {
            "text/html": [
              "<div>\n",
              "<style scoped>\n",
              "    .dataframe tbody tr th:only-of-type {\n",
              "        vertical-align: middle;\n",
              "    }\n",
              "\n",
              "    .dataframe tbody tr th {\n",
              "        vertical-align: top;\n",
              "    }\n",
              "\n",
              "    .dataframe thead th {\n",
              "        text-align: right;\n",
              "    }\n",
              "</style>\n",
              "<table border=\"1\" class=\"dataframe\">\n",
              "  <thead>\n",
              "    <tr style=\"text-align: right;\">\n",
              "      <th></th>\n",
              "      <th>id_atleta</th>\n",
              "      <th>nome_atleta</th>\n",
              "      <th>sexo_atleta</th>\n",
              "      <th>idade</th>\n",
              "      <th>altura_atleta</th>\n",
              "      <th>peso_atleta</th>\n",
              "      <th>equipe</th>\n",
              "      <th>noc</th>\n",
              "      <th>ano_temporada</th>\n",
              "      <th>ano</th>\n",
              "      <th>temporada</th>\n",
              "      <th>cidade_sede</th>\n",
              "      <th>modalidade_esportiva</th>\n",
              "      <th>evento</th>\n",
              "      <th>medalha</th>\n",
              "    </tr>\n",
              "  </thead>\n",
              "  <tbody>\n",
              "    <tr>\n",
              "      <th>0</th>\n",
              "      <td>1</td>\n",
              "      <td>A Dijiang</td>\n",
              "      <td>M</td>\n",
              "      <td>24.0</td>\n",
              "      <td>180.0</td>\n",
              "      <td>80.0</td>\n",
              "      <td>China</td>\n",
              "      <td>CHN</td>\n",
              "      <td>1992 Summer</td>\n",
              "      <td>1992</td>\n",
              "      <td>Summer</td>\n",
              "      <td>Barcelona</td>\n",
              "      <td>Basketball</td>\n",
              "      <td>Basketball Men's Basketball</td>\n",
              "      <td>NaN</td>\n",
              "    </tr>\n",
              "    <tr>\n",
              "      <th>1</th>\n",
              "      <td>2</td>\n",
              "      <td>A Lamusi</td>\n",
              "      <td>M</td>\n",
              "      <td>23.0</td>\n",
              "      <td>170.0</td>\n",
              "      <td>60.0</td>\n",
              "      <td>China</td>\n",
              "      <td>CHN</td>\n",
              "      <td>2012 Summer</td>\n",
              "      <td>2012</td>\n",
              "      <td>Summer</td>\n",
              "      <td>London</td>\n",
              "      <td>Judo</td>\n",
              "      <td>Judo Men's Extra-Lightweight</td>\n",
              "      <td>NaN</td>\n",
              "    </tr>\n",
              "    <tr>\n",
              "      <th>2</th>\n",
              "      <td>3</td>\n",
              "      <td>Gunnar Nielsen Aaby</td>\n",
              "      <td>M</td>\n",
              "      <td>24.0</td>\n",
              "      <td>NaN</td>\n",
              "      <td>NaN</td>\n",
              "      <td>Denmark</td>\n",
              "      <td>DEN</td>\n",
              "      <td>1920 Summer</td>\n",
              "      <td>1920</td>\n",
              "      <td>Summer</td>\n",
              "      <td>Antwerpen</td>\n",
              "      <td>Football</td>\n",
              "      <td>Football Men's Football</td>\n",
              "      <td>NaN</td>\n",
              "    </tr>\n",
              "    <tr>\n",
              "      <th>3</th>\n",
              "      <td>4</td>\n",
              "      <td>Edgar Lindenau Aabye</td>\n",
              "      <td>M</td>\n",
              "      <td>34.0</td>\n",
              "      <td>NaN</td>\n",
              "      <td>NaN</td>\n",
              "      <td>Denmark/Sweden</td>\n",
              "      <td>DEN</td>\n",
              "      <td>1900 Summer</td>\n",
              "      <td>1900</td>\n",
              "      <td>Summer</td>\n",
              "      <td>Paris</td>\n",
              "      <td>Tug-Of-War</td>\n",
              "      <td>Tug-Of-War Men's Tug-Of-War</td>\n",
              "      <td>Gold</td>\n",
              "    </tr>\n",
              "    <tr>\n",
              "      <th>26</th>\n",
              "      <td>8</td>\n",
              "      <td>Cornelia \"Cor\" Aalten (-Strannood)</td>\n",
              "      <td>F</td>\n",
              "      <td>18.0</td>\n",
              "      <td>168.0</td>\n",
              "      <td>NaN</td>\n",
              "      <td>Netherlands</td>\n",
              "      <td>NED</td>\n",
              "      <td>1932 Summer</td>\n",
              "      <td>1932</td>\n",
              "      <td>Summer</td>\n",
              "      <td>Los Angeles</td>\n",
              "      <td>Athletics</td>\n",
              "      <td>Athletics Women's 100 metres</td>\n",
              "      <td>NaN</td>\n",
              "    </tr>\n",
              "  </tbody>\n",
              "</table>\n",
              "</div>"
            ],
            "text/plain": [
              "    id_atleta  ... medalha\n",
              "0           1  ...     NaN\n",
              "1           2  ...     NaN\n",
              "2           3  ...     NaN\n",
              "3           4  ...    Gold\n",
              "26          8  ...     NaN\n",
              "\n",
              "[5 rows x 15 columns]"
            ]
          },
          "metadata": {
            "tags": []
          },
          "execution_count": 89
        }
      ]
    },
    {
      "cell_type": "code",
      "metadata": {
        "id": "kW0GqoTvFI83"
      },
      "source": [
        ""
      ],
      "execution_count": null,
      "outputs": []
    },
    {
      "cell_type": "markdown",
      "metadata": {
        "id": "4-AnfhjwFK_D"
      },
      "source": [
        "### altura_atleta - Altura_atleta"
      ]
    },
    {
      "cell_type": "code",
      "metadata": {
        "colab": {
          "base_uri": "https://localhost:8080/"
        },
        "id": "k8PY6TWMFO3J",
        "outputId": "d503cd42-6b22-4415-f645-8bc98595ad1f"
      },
      "source": [
        "df_atleta[\"altura_atleta\"].nunique()"
      ],
      "execution_count": null,
      "outputs": [
        {
          "output_type": "execute_result",
          "data": {
            "text/plain": [
              "95"
            ]
          },
          "metadata": {
            "tags": []
          },
          "execution_count": 90
        }
      ]
    },
    {
      "cell_type": "code",
      "metadata": {
        "colab": {
          "base_uri": "https://localhost:8080/"
        },
        "id": "SMs0g8RhFh_V",
        "outputId": "062431d9-f2fd-49a8-c1cc-f5d58d59942f"
      },
      "source": [
        "df_atleta[\"altura_atleta\"].min()"
      ],
      "execution_count": null,
      "outputs": [
        {
          "output_type": "execute_result",
          "data": {
            "text/plain": [
              "127.0"
            ]
          },
          "metadata": {
            "tags": []
          },
          "execution_count": 91
        }
      ]
    },
    {
      "cell_type": "code",
      "metadata": {
        "id": "mn-htNjiFqB8"
      },
      "source": [
        ""
      ],
      "execution_count": null,
      "outputs": []
    },
    {
      "cell_type": "code",
      "metadata": {
        "colab": {
          "base_uri": "https://localhost:8080/"
        },
        "id": "IIUeJ86kFtOp",
        "outputId": "4a23b119-96ad-49e3-baea-65c5d72cadf3"
      },
      "source": [
        "df_atleta[\"altura_atleta\"].max()"
      ],
      "execution_count": null,
      "outputs": [
        {
          "output_type": "execute_result",
          "data": {
            "text/plain": [
              "226.0"
            ]
          },
          "metadata": {
            "tags": []
          },
          "execution_count": 92
        }
      ]
    },
    {
      "cell_type": "code",
      "metadata": {
        "colab": {
          "base_uri": "https://localhost:8080/"
        },
        "id": "3v4-Oa_sFux0",
        "outputId": "8547a19d-23b6-47c2-8223-0e0ec619a41a"
      },
      "source": [
        "df_atleta[\"altura_atleta\"].describe()"
      ],
      "execution_count": null,
      "outputs": [
        {
          "output_type": "execute_result",
          "data": {
            "text/plain": [
              "count    170667.000000\n",
              "mean        175.515560\n",
              "std          10.914843\n",
              "min         127.000000\n",
              "25%         168.000000\n",
              "50%         175.000000\n",
              "75%         183.000000\n",
              "max         226.000000\n",
              "Name: altura_atleta, dtype: float64"
            ]
          },
          "metadata": {
            "tags": []
          },
          "execution_count": 93
        }
      ]
    },
    {
      "cell_type": "code",
      "metadata": {
        "colab": {
          "base_uri": "https://localhost:8080/",
          "height": 609
        },
        "id": "hA6tVBrBF0Qt",
        "outputId": "debdea26-455a-4ce7-a2d4-f46119e153cd"
      },
      "source": [
        "df_atleta[df_atleta[\"altura_atleta\"] == 127.0]"
      ],
      "execution_count": null,
      "outputs": [
        {
          "output_type": "execute_result",
          "data": {
            "text/html": [
              "<div>\n",
              "<style scoped>\n",
              "    .dataframe tbody tr th:only-of-type {\n",
              "        vertical-align: middle;\n",
              "    }\n",
              "\n",
              "    .dataframe tbody tr th {\n",
              "        vertical-align: top;\n",
              "    }\n",
              "\n",
              "    .dataframe thead th {\n",
              "        text-align: right;\n",
              "    }\n",
              "</style>\n",
              "<table border=\"1\" class=\"dataframe\">\n",
              "  <thead>\n",
              "    <tr style=\"text-align: right;\">\n",
              "      <th></th>\n",
              "      <th>id_atleta</th>\n",
              "      <th>nome_atleta</th>\n",
              "      <th>sexo_atleta</th>\n",
              "      <th>idade</th>\n",
              "      <th>altura_atleta</th>\n",
              "      <th>peso_atleta</th>\n",
              "      <th>equipe</th>\n",
              "      <th>noc</th>\n",
              "      <th>ano_temporada</th>\n",
              "      <th>ano</th>\n",
              "      <th>temporada</th>\n",
              "      <th>cidade_sede</th>\n",
              "      <th>modalidade_esportiva</th>\n",
              "      <th>evento</th>\n",
              "      <th>medalha</th>\n",
              "    </tr>\n",
              "  </thead>\n",
              "  <tbody>\n",
              "    <tr>\n",
              "      <th>29333</th>\n",
              "      <td>15150</td>\n",
              "      <td>Rosario Briones</td>\n",
              "      <td>F</td>\n",
              "      <td>15.0</td>\n",
              "      <td>127.0</td>\n",
              "      <td>42.0</td>\n",
              "      <td>Mexico</td>\n",
              "      <td>MEX</td>\n",
              "      <td>1968 Summer</td>\n",
              "      <td>1968</td>\n",
              "      <td>Summer</td>\n",
              "      <td>Mexico City</td>\n",
              "      <td>Gymnastics</td>\n",
              "      <td>Gymnastics Women's Individual All-Around</td>\n",
              "      <td>NaN</td>\n",
              "    </tr>\n",
              "    <tr>\n",
              "      <th>29334</th>\n",
              "      <td>15150</td>\n",
              "      <td>Rosario Briones</td>\n",
              "      <td>F</td>\n",
              "      <td>15.0</td>\n",
              "      <td>127.0</td>\n",
              "      <td>42.0</td>\n",
              "      <td>Mexico</td>\n",
              "      <td>MEX</td>\n",
              "      <td>1968 Summer</td>\n",
              "      <td>1968</td>\n",
              "      <td>Summer</td>\n",
              "      <td>Mexico City</td>\n",
              "      <td>Gymnastics</td>\n",
              "      <td>Gymnastics Women's Team All-Around</td>\n",
              "      <td>NaN</td>\n",
              "    </tr>\n",
              "    <tr>\n",
              "      <th>29335</th>\n",
              "      <td>15150</td>\n",
              "      <td>Rosario Briones</td>\n",
              "      <td>F</td>\n",
              "      <td>15.0</td>\n",
              "      <td>127.0</td>\n",
              "      <td>42.0</td>\n",
              "      <td>Mexico</td>\n",
              "      <td>MEX</td>\n",
              "      <td>1968 Summer</td>\n",
              "      <td>1968</td>\n",
              "      <td>Summer</td>\n",
              "      <td>Mexico City</td>\n",
              "      <td>Gymnastics</td>\n",
              "      <td>Gymnastics Women's Floor Exercise</td>\n",
              "      <td>NaN</td>\n",
              "    </tr>\n",
              "    <tr>\n",
              "      <th>29336</th>\n",
              "      <td>15150</td>\n",
              "      <td>Rosario Briones</td>\n",
              "      <td>F</td>\n",
              "      <td>15.0</td>\n",
              "      <td>127.0</td>\n",
              "      <td>42.0</td>\n",
              "      <td>Mexico</td>\n",
              "      <td>MEX</td>\n",
              "      <td>1968 Summer</td>\n",
              "      <td>1968</td>\n",
              "      <td>Summer</td>\n",
              "      <td>Mexico City</td>\n",
              "      <td>Gymnastics</td>\n",
              "      <td>Gymnastics Women's Horse Vault</td>\n",
              "      <td>NaN</td>\n",
              "    </tr>\n",
              "    <tr>\n",
              "      <th>29337</th>\n",
              "      <td>15150</td>\n",
              "      <td>Rosario Briones</td>\n",
              "      <td>F</td>\n",
              "      <td>15.0</td>\n",
              "      <td>127.0</td>\n",
              "      <td>42.0</td>\n",
              "      <td>Mexico</td>\n",
              "      <td>MEX</td>\n",
              "      <td>1968 Summer</td>\n",
              "      <td>1968</td>\n",
              "      <td>Summer</td>\n",
              "      <td>Mexico City</td>\n",
              "      <td>Gymnastics</td>\n",
              "      <td>Gymnastics Women's Uneven Bars</td>\n",
              "      <td>NaN</td>\n",
              "    </tr>\n",
              "    <tr>\n",
              "      <th>29338</th>\n",
              "      <td>15150</td>\n",
              "      <td>Rosario Briones</td>\n",
              "      <td>F</td>\n",
              "      <td>15.0</td>\n",
              "      <td>127.0</td>\n",
              "      <td>42.0</td>\n",
              "      <td>Mexico</td>\n",
              "      <td>MEX</td>\n",
              "      <td>1968 Summer</td>\n",
              "      <td>1968</td>\n",
              "      <td>Summer</td>\n",
              "      <td>Mexico City</td>\n",
              "      <td>Gymnastics</td>\n",
              "      <td>Gymnastics Women's Balance Beam</td>\n",
              "      <td>NaN</td>\n",
              "    </tr>\n",
              "    <tr>\n",
              "      <th>164821</th>\n",
              "      <td>82769</td>\n",
              "      <td>Lyton Levison Mphande</td>\n",
              "      <td>M</td>\n",
              "      <td>25.0</td>\n",
              "      <td>127.0</td>\n",
              "      <td>62.0</td>\n",
              "      <td>Malawi</td>\n",
              "      <td>MAW</td>\n",
              "      <td>1988 Summer</td>\n",
              "      <td>1988</td>\n",
              "      <td>Summer</td>\n",
              "      <td>Seoul</td>\n",
              "      <td>Boxing</td>\n",
              "      <td>Boxing Men's Light-Welterweight</td>\n",
              "      <td>NaN</td>\n",
              "    </tr>\n",
              "  </tbody>\n",
              "</table>\n",
              "</div>"
            ],
            "text/plain": [
              "        id_atleta  ... medalha\n",
              "29333       15150  ...     NaN\n",
              "29334       15150  ...     NaN\n",
              "29335       15150  ...     NaN\n",
              "29336       15150  ...     NaN\n",
              "29337       15150  ...     NaN\n",
              "29338       15150  ...     NaN\n",
              "164821      82769  ...     NaN\n",
              "\n",
              "[7 rows x 15 columns]"
            ]
          },
          "metadata": {
            "tags": []
          },
          "execution_count": 95
        }
      ]
    },
    {
      "cell_type": "code",
      "metadata": {
        "colab": {
          "base_uri": "https://localhost:8080/",
          "height": 264
        },
        "id": "JRipgxzPGulp",
        "outputId": "ce348597-42d6-4cf9-aeda-f4d0765fa0ab"
      },
      "source": [
        "df_atleta[df_atleta[\"altura_atleta\"] == 226.0]"
      ],
      "execution_count": null,
      "outputs": [
        {
          "output_type": "execute_result",
          "data": {
            "text/html": [
              "<div>\n",
              "<style scoped>\n",
              "    .dataframe tbody tr th:only-of-type {\n",
              "        vertical-align: middle;\n",
              "    }\n",
              "\n",
              "    .dataframe tbody tr th {\n",
              "        vertical-align: top;\n",
              "    }\n",
              "\n",
              "    .dataframe thead th {\n",
              "        text-align: right;\n",
              "    }\n",
              "</style>\n",
              "<table border=\"1\" class=\"dataframe\">\n",
              "  <thead>\n",
              "    <tr style=\"text-align: right;\">\n",
              "      <th></th>\n",
              "      <th>id_atleta</th>\n",
              "      <th>nome_atleta</th>\n",
              "      <th>sexo_atleta</th>\n",
              "      <th>idade</th>\n",
              "      <th>altura_atleta</th>\n",
              "      <th>peso_atleta</th>\n",
              "      <th>equipe</th>\n",
              "      <th>noc</th>\n",
              "      <th>ano_temporada</th>\n",
              "      <th>ano</th>\n",
              "      <th>temporada</th>\n",
              "      <th>cidade_sede</th>\n",
              "      <th>modalidade_esportiva</th>\n",
              "      <th>evento</th>\n",
              "      <th>medalha</th>\n",
              "    </tr>\n",
              "  </thead>\n",
              "  <tbody>\n",
              "    <tr>\n",
              "      <th>265040</th>\n",
              "      <td>132627</td>\n",
              "      <td>Yao Ming</td>\n",
              "      <td>M</td>\n",
              "      <td>20.0</td>\n",
              "      <td>226.0</td>\n",
              "      <td>141.0</td>\n",
              "      <td>China</td>\n",
              "      <td>CHN</td>\n",
              "      <td>2000 Summer</td>\n",
              "      <td>2000</td>\n",
              "      <td>Summer</td>\n",
              "      <td>Sydney</td>\n",
              "      <td>Basketball</td>\n",
              "      <td>Basketball Men's Basketball</td>\n",
              "      <td>NaN</td>\n",
              "    </tr>\n",
              "    <tr>\n",
              "      <th>265041</th>\n",
              "      <td>132627</td>\n",
              "      <td>Yao Ming</td>\n",
              "      <td>M</td>\n",
              "      <td>23.0</td>\n",
              "      <td>226.0</td>\n",
              "      <td>141.0</td>\n",
              "      <td>China</td>\n",
              "      <td>CHN</td>\n",
              "      <td>2004 Summer</td>\n",
              "      <td>2004</td>\n",
              "      <td>Summer</td>\n",
              "      <td>Athina</td>\n",
              "      <td>Basketball</td>\n",
              "      <td>Basketball Men's Basketball</td>\n",
              "      <td>NaN</td>\n",
              "    </tr>\n",
              "    <tr>\n",
              "      <th>265042</th>\n",
              "      <td>132627</td>\n",
              "      <td>Yao Ming</td>\n",
              "      <td>M</td>\n",
              "      <td>27.0</td>\n",
              "      <td>226.0</td>\n",
              "      <td>141.0</td>\n",
              "      <td>China</td>\n",
              "      <td>CHN</td>\n",
              "      <td>2008 Summer</td>\n",
              "      <td>2008</td>\n",
              "      <td>Summer</td>\n",
              "      <td>Beijing</td>\n",
              "      <td>Basketball</td>\n",
              "      <td>Basketball Men's Basketball</td>\n",
              "      <td>NaN</td>\n",
              "    </tr>\n",
              "  </tbody>\n",
              "</table>\n",
              "</div>"
            ],
            "text/plain": [
              "        id_atleta nome_atleta  ...                       evento  medalha\n",
              "265040     132627    Yao Ming  ...  Basketball Men's Basketball      NaN\n",
              "265041     132627    Yao Ming  ...  Basketball Men's Basketball      NaN\n",
              "265042     132627    Yao Ming  ...  Basketball Men's Basketball      NaN\n",
              "\n",
              "[3 rows x 15 columns]"
            ]
          },
          "metadata": {
            "tags": []
          },
          "execution_count": 96
        }
      ]
    },
    {
      "cell_type": "code",
      "metadata": {
        "id": "w-Qc9HGiHGWS"
      },
      "source": [
        ""
      ],
      "execution_count": null,
      "outputs": []
    },
    {
      "cell_type": "code",
      "metadata": {
        "id": "glAr0uP_HbHR"
      },
      "source": [
        "df_atleta_acima200 = df_atleta[df_atleta[\"altura_atleta\"] >= 200.0]"
      ],
      "execution_count": null,
      "outputs": []
    },
    {
      "cell_type": "code",
      "metadata": {
        "colab": {
          "base_uri": "https://localhost:8080/"
        },
        "id": "I2MmubXRHfMv",
        "outputId": "836988f6-98db-484b-c9d5-4f1594fbd7c6"
      },
      "source": [
        "df_atleta_acima200[\"modalidade_esportiva\"].unique()"
      ],
      "execution_count": null,
      "outputs": [
        {
          "output_type": "execute_result",
          "data": {
            "text/plain": [
              "array(['Volleyball', 'Basketball', 'Rowing', 'Judo', 'Swimming',\n",
              "       'Taekwondo', 'Athletics', 'Handball', 'Beach Volleyball', 'Tennis',\n",
              "       'Wrestling', 'Water Polo', 'Sailing', 'Football', 'Canoeing',\n",
              "       'Cycling', 'Boxing', 'Shooting', 'Weightlifting', 'Fencing',\n",
              "       'Badminton', 'Hockey', 'Baseball'], dtype=object)"
            ]
          },
          "metadata": {
            "tags": []
          },
          "execution_count": 100
        }
      ]
    },
    {
      "cell_type": "code",
      "metadata": {
        "id": "fQr7h42eIFNf"
      },
      "source": [
        ""
      ],
      "execution_count": null,
      "outputs": []
    }
  ]
}